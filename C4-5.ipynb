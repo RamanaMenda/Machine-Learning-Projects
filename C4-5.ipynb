{
 "cells": [
  {
   "cell_type": "code",
   "execution_count": 1,
   "id": "f798e761-49ba-4b17-a8b8-57f9e597eec4",
   "metadata": {
    "tags": []
   },
   "outputs": [],
   "source": [
    "import pandas as pd\n",
    "import numpy as np\n",
    "from math import log"
   ]
  },
  {
   "cell_type": "code",
   "execution_count": 2,
   "id": "bb4c770d-2147-4e61-935e-2ae4d383d6aa",
   "metadata": {},
   "outputs": [],
   "source": [
    "data = pd.read_csv('datasets/ml.csv')"
   ]
  },
  {
   "cell_type": "code",
   "execution_count": 3,
   "id": "8ef94177-c5e2-4982-affb-3b2cb3173a26",
   "metadata": {},
   "outputs": [],
   "source": [
    "data1 = data"
   ]
  },
  {
   "cell_type": "code",
   "execution_count": 4,
   "id": "e419ddba-c485-49ea-bf15-2e6b548d28fe",
   "metadata": {},
   "outputs": [
    {
     "name": "stdout",
     "output_type": "stream",
     "text": [
      "     outlook  temp humidity    wind play\n",
      "0      Sunny   Hot     High    Weak   No\n",
      "1      Sunny   Hot     High  Strong   No\n",
      "2   Overcast   Hot     High    Weak  Yes\n",
      "3       Rain  Mild     High    Weak  Yes\n",
      "4       Rain  Cool   Normal    Weak  Yes\n",
      "5       Rain  Cool   Normal  Strong   No\n",
      "6   Overcast  Cool   Normal  Strong  Yes\n",
      "7      Sunny  Mild     High    Weak   No\n",
      "8      Sunny  Cool   Normal    Weak  Yes\n",
      "9       Rain  Mild   Normal    Weak  Yes\n",
      "10     Sunny  Mild   Normal  Strong  Yes\n",
      "11  Overcast  Mild     High  Strong  Yes\n",
      "12  Overcast   Hot   Normal    Weak  Yes\n",
      "13      Rain  Mild     High  Strong   No\n"
     ]
    }
   ],
   "source": [
    "print(data)"
   ]
  },
  {
   "cell_type": "code",
   "execution_count": 5,
   "id": "3fbac484-9983-4055-8b7d-4701ee8a0f84",
   "metadata": {},
   "outputs": [],
   "source": [
    "def entropy(*p):\n",
    "    ret = 0\n",
    "    for i in p:\n",
    "        if i != 0:\n",
    "            ret += (-1)*i*log(i,2)\n",
    "    return ret"
   ]
  },
  {
   "cell_type": "code",
   "execution_count": 6,
   "id": "c8fe9c47-683f-469a-9a86-0d10c75ce39f",
   "metadata": {
    "tags": []
   },
   "outputs": [
    {
     "data": {
      "text/plain": [
       "0.9402859586706309"
      ]
     },
     "execution_count": 6,
     "metadata": {},
     "output_type": "execute_result"
    }
   ],
   "source": [
    "entropy(9/14, 5/14)"
   ]
  },
  {
   "cell_type": "code",
   "execution_count": 7,
   "id": "de36765c-00da-4327-a305-0086e17a86f7",
   "metadata": {
    "tags": []
   },
   "outputs": [
    {
     "name": "stdout",
     "output_type": "stream",
     "text": [
      "{}\n"
     ]
    }
   ],
   "source": [
    "tree = {}\n",
    "print(tree)"
   ]
  },
  {
   "cell_type": "code",
   "execution_count": 8,
   "id": "c36de7ca-dc44-433d-9117-4d94b94e8d08",
   "metadata": {
    "tags": []
   },
   "outputs": [
    {
     "name": "stdout",
     "output_type": "stream",
     "text": [
      "0.9852281360342516\n"
     ]
    }
   ],
   "source": [
    "def splitInfo(data, key):\n",
    "    ret = 0\n",
    "    S = len(data)\n",
    "    for i in set(data[key]):\n",
    "        x = len(data[data[key] == i])\n",
    "        v = x/S\n",
    "        ret += (-1)*(v)*log(v,2)\n",
    "    return ret\n",
    "print(splitInfo(data,'wind'))"
   ]
  },
  {
   "cell_type": "code",
   "execution_count": 9,
   "id": "ada23e24-dfd3-4b9a-a226-bbf933fc78ff",
   "metadata": {
    "tags": []
   },
   "outputs": [],
   "source": [
    "def root(data,t):\n",
    "    x = len(data[data['play'] == 'Yes'])/len(data)\n",
    "    S = entropy(x, 1-x)\n",
    "    if S == 0:\n",
    "        if x == 1:\n",
    "            t['Yes'] = 'Yes'\n",
    "        else:\n",
    "            t['No'] = 'No'\n",
    "        return\n",
    "    keys = data.keys()[:-1]\n",
    "    l = len(data)\n",
    "    entropys = []\n",
    "    split = []\n",
    "    for key in keys:\n",
    "        e = 0\n",
    "        for i in set(data[key]):\n",
    "            x = len(data[(data['play'] == 'Yes') & (data[key] == i)])\n",
    "            y = len(data[data[key] == i])\n",
    "            p = x/y\n",
    "            e += (y/l)*entropy(p, 1-p)\n",
    "        v = splitInfo(data,key)\n",
    "        split.append(v)\n",
    "        entropys.append(e)\n",
    "    print(entropys)\n",
    "    gain = [S-i for i in entropys]\n",
    "    print(gain)\n",
    "    print(split)\n",
    "    gainratio = [gain[i]/split[i] for i in range(len(gain))]\n",
    "    print(gainratio)\n",
    "    m = max(gainratio)\n",
    "    print(m)\n",
    "    a = keys[gainratio.index(m)] \n",
    "    t[a] = {}\n",
    "    for i in set(data[a]):\n",
    "        t[a][i] = {}\n",
    "        path = t[a][i]\n",
    "        asdf = data[data[a]==i]\n",
    "        newdata = asdf.drop([a],axis=1)\n",
    "        root(newdata,path)"
   ]
  },
  {
   "cell_type": "code",
   "execution_count": 10,
   "id": "c21613d8-72ff-4fdd-b53e-79930b78ec0d",
   "metadata": {
    "tags": []
   },
   "outputs": [
    {
     "name": "stdout",
     "output_type": "stream",
     "text": [
      "[0.6935361388961918, 0.9110633930116763, 0.7884504573082896, 0.8921589282623617]\n",
      "[0.24674981977443933, 0.02922256565895487, 0.15183550136234159, 0.04812703040826949]\n",
      "[1.5774062828523452, 1.5566567074628228, 1.0, 0.9852281360342516]\n",
      "[0.1564275624211753, 0.018772646222418813, 0.15183550136234159, 0.04884861551152082]\n",
      "0.1564275624211753\n",
      "[0.9509775004326937, 0.9509775004326937, 0.0]\n",
      "[0.01997309402197489, 0.01997309402197489, 0.9709505944546686]\n",
      "[0.9709505944546686, 0.9709505944546686, 0.9709505944546686]\n",
      "[0.020570659450692974, 0.020570659450692974, 1.0]\n",
      "1.0\n",
      "[0.4, 0.0, 0.9509775004326937]\n",
      "[0.5709505944546686, 0.9709505944546686, 0.01997309402197489]\n",
      "[1.5219280948873621, 0.9709505944546686, 0.9709505944546686]\n",
      "[0.37514952012034747, 1.0, 0.020570659450692974]\n",
      "1.0\n"
     ]
    }
   ],
   "source": [
    "root(data,tree)"
   ]
  },
  {
   "cell_type": "code",
   "execution_count": 11,
   "id": "213fc72b-cff8-4e44-a200-bcb4762a7a8e",
   "metadata": {
    "tags": []
   },
   "outputs": [
    {
     "name": "stdout",
     "output_type": "stream",
     "text": [
      "{'outlook': {'Overcast': {'Yes': 'Yes'}, 'Rain': {'wind': {'Weak': {'Yes': 'Yes'}, 'Strong': {'No': 'No'}}}, 'Sunny': {'humidity': {'High': {'No': 'No'}, 'Normal': {'Yes': 'Yes'}}}}}\n"
     ]
    }
   ],
   "source": [
    "print(tree)"
   ]
  },
  {
   "cell_type": "code",
   "execution_count": 12,
   "id": "f41d4f90-5af5-46f3-93e2-5a7dd634c745",
   "metadata": {
    "tags": []
   },
   "outputs": [
    {
     "name": "stdout",
     "output_type": "stream",
     "text": [
      "No Yes\n",
      "Yes No\n",
      "Yes Yes\n",
      "Yes Yes\n",
      "Yes Yes\n",
      "Yes Yes\n",
      "No No\n",
      "No Yes\n",
      "No Yes\n",
      "Yes Yes\n",
      "Yes No\n",
      "Yes No\n",
      "No Yes\n",
      "Yes Yes\n"
     ]
    }
   ],
   "source": [
    "data1 = pd.read_csv('datasets/ml_test.csv')\n",
    "for d in data1.iterrows():\n",
    "    t = tree\n",
    "    key = [i for i in t.keys()]\n",
    "    while key[0] != 'No' and key[0] != 'Yes':\n",
    "        val = d[1][key[0]]\n",
    "        t = t[key[0]]\n",
    "        t = t[val]\n",
    "        key = [i for i in t.keys()]\n",
    "    print(d[1]['play'],key[0])"
   ]
  },
  {
   "cell_type": "code",
   "execution_count": 13,
   "id": "e9a95ce9-1d7a-4437-8df6-c97a7fe4df84",
   "metadata": {
    "tags": []
   },
   "outputs": [],
   "source": [
    "def confusion():\n",
    "    confmat = np.array([0,0,0,0])\n",
    "    confmat = confmat.reshape(2,2)\n",
    "    for d in data1.iterrows():\n",
    "        t = tree\n",
    "        key = [i for i in t.keys()]\n",
    "        while key[0] != 'No' and key[0] != 'Yes':\n",
    "            val = d[1][key[0]]\n",
    "            t = t[key[0]]\n",
    "            t = t[val]\n",
    "            key = [i for i in t.keys()]\n",
    "        predy = key[0]\n",
    "        y = d[1]['play']\n",
    "        if y == predy:\n",
    "            if y == 'Yes':\n",
    "                confmat[0][0] += 1\n",
    "            else:\n",
    "                confmat[1][1] += 1\n",
    "        else:\n",
    "            if y == 'Yes':\n",
    "                confmat[1][0] += 1\n",
    "            else:\n",
    "                confmat[0][1] += 1\n",
    "    return confmat"
   ]
  },
  {
   "cell_type": "code",
   "execution_count": 14,
   "id": "c7c66318-b6e1-4efe-a42e-a6234219a127",
   "metadata": {
    "tags": []
   },
   "outputs": [],
   "source": [
    "def accuracy(mat):\n",
    "    return (mat[0][0] + mat[1][1])/(mat[0][0] + mat[0][1] + mat[1][0] + mat[1][1])\n",
    "def precision(mat):\n",
    "    return (mat[0][0])/(mat[0][0] + mat[1][0])\n",
    "def recall(mat):\n",
    "    return (mat[0][0])/(mat[0][0] + mat[0][1])\n",
    "def F1Score(p,r):\n",
    "    return (2*(p*r))/(p + r)"
   ]
  },
  {
   "cell_type": "code",
   "execution_count": 15,
   "id": "e0f75d55-a3e4-4979-a878-9a9b7fc7ac39",
   "metadata": {
    "tags": []
   },
   "outputs": [
    {
     "name": "stdout",
     "output_type": "stream",
     "text": [
      "[[6 4]\n",
      " [3 1]]\n",
      "0.5 0.6666666666666666 0.6 0.631578947368421\n"
     ]
    }
   ],
   "source": [
    "mat = confusion() \n",
    "print(mat)\n",
    "acc = accuracy(mat)\n",
    "pre = precision(mat)\n",
    "rec = recall(mat)\n",
    "fscore = F1Score(pre, rec)\n",
    "print(acc, pre, rec, fscore)"
   ]
  },
  {
   "cell_type": "code",
   "execution_count": null,
   "id": "4e0804a6-15b4-44ea-9769-152c46aebfd7",
   "metadata": {},
   "outputs": [],
   "source": []
  }
 ],
 "metadata": {
  "kernelspec": {
   "display_name": "Python 3",
   "language": "python",
   "name": "python3"
  },
  "language_info": {
   "codemirror_mode": {
    "name": "ipython",
    "version": 3
   },
   "file_extension": ".py",
   "mimetype": "text/x-python",
   "name": "python",
   "nbconvert_exporter": "python",
   "pygments_lexer": "ipython3",
   "version": "3.10.0"
  }
 },
 "nbformat": 4,
 "nbformat_minor": 5
}
