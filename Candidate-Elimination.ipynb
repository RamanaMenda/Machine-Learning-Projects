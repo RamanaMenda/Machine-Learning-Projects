{
 "cells": [
  {
   "cell_type": "code",
   "execution_count": 1,
   "id": "d4189f1a-a0db-41d3-92b3-4e29a64e9e43",
   "metadata": {
    "tags": []
   },
   "outputs": [],
   "source": [
    "import pandas as pd\n",
    "import numpy as np\n",
    "from copy import deepcopy"
   ]
  },
  {
   "cell_type": "code",
   "execution_count": 2,
   "id": "2d21a751-cc5b-4a02-93ee-6c53aaaa3716",
   "metadata": {
    "tags": []
   },
   "outputs": [],
   "source": [
    "data = pd.read_csv('datasets/EnjoySport.csv')"
   ]
  },
  {
   "cell_type": "code",
   "execution_count": 3,
   "id": "986d904a-6bfd-4798-b7f9-2779e8b81836",
   "metadata": {
    "tags": []
   },
   "outputs": [
    {
     "name": "stdout",
     "output_type": "stream",
     "text": [
      "     Sky AirTemp Humidity    Wind Water Forcast EnjoySport\n",
      "0  Sunny    Warm   Normal  Strong  Warm    Same        Yes\n",
      "1  Sunny    Warm     High  Strong  Warm    Same        Yes\n",
      "2  Rainy    Cold     High  Strong  Warm  Change         No\n",
      "3  Sunny    Warm     High  Strong  Cool  Change        Yes\n"
     ]
    }
   ],
   "source": [
    "print(data)"
   ]
  },
  {
   "cell_type": "code",
   "execution_count": 4,
   "id": "055a497b-1fa6-4e3a-8483-69d98b4fe13d",
   "metadata": {
    "tags": []
   },
   "outputs": [],
   "source": [
    "def candidateElimination(s,g):\n",
    "    n = len(data.keys())\n",
    "    \n",
    "    for d in data.iterrows():\n",
    "        if d[1][-1] == 'Yes':\n",
    "            for i in range(n-1):\n",
    "                if s[i] != '?':\n",
    "                    if s[i] is None:\n",
    "                        s[i] = d[1][i]\n",
    "                    elif s[i] != d[1][i]:\n",
    "                        s[i] = '?'\n",
    "            newg = []\n",
    "            for i in g:\n",
    "                for j in range(n-1):\n",
    "                    if i[j] != s[j] and i[j] != '?':\n",
    "                        break\n",
    "                else:\n",
    "                    newg.append(i)\n",
    "            g = newg\n",
    "        else:\n",
    "            newg = []\n",
    "            for i in g:\n",
    "                for j in range(n-1):\n",
    "                    if d[1][j] != s[j] and s[j] != '?':\n",
    "                        newi = deepcopy(i)\n",
    "                        newi[j] = s[j]\n",
    "                        newg.append(newi)\n",
    "            g = newg\n",
    "        print(s,g)\n",
    "    return s, g       "
   ]
  },
  {
   "cell_type": "code",
   "execution_count": 5,
   "id": "2534d3d5-41ad-4383-a0ef-2a9d00a09025",
   "metadata": {
    "tags": []
   },
   "outputs": [
    {
     "name": "stdout",
     "output_type": "stream",
     "text": [
      "['Sunny', 'Warm', 'Normal', 'Strong', 'Warm', 'Same'] [['?', '?', '?', '?', '?', '?']]\n",
      "['Sunny', 'Warm', '?', 'Strong', 'Warm', 'Same'] [['?', '?', '?', '?', '?', '?']]\n",
      "['Sunny', 'Warm', '?', 'Strong', 'Warm', 'Same'] [['Sunny', '?', '?', '?', '?', '?'], ['?', 'Warm', '?', '?', '?', '?'], ['?', '?', '?', '?', '?', 'Same']]\n",
      "['Sunny', 'Warm', '?', 'Strong', '?', '?'] [['Sunny', '?', '?', '?', '?', '?'], ['?', 'Warm', '?', '?', '?', '?']]\n"
     ]
    },
    {
     "data": {
      "text/plain": [
       "(['Sunny', 'Warm', '?', 'Strong', '?', '?'],\n",
       " [['Sunny', '?', '?', '?', '?', '?'], ['?', 'Warm', '?', '?', '?', '?']])"
      ]
     },
     "execution_count": 5,
     "metadata": {},
     "output_type": "execute_result"
    }
   ],
   "source": [
    "n = len(data.keys())\n",
    "s = [None for i in range(n-1)]\n",
    "g = [['?' for i in range(n-1)]]\n",
    "candidateElimination(s,g)"
   ]
  },
  {
   "cell_type": "code",
   "execution_count": null,
   "id": "f5a3522a-bae8-432e-82ff-f90652544872",
   "metadata": {},
   "outputs": [],
   "source": []
  }
 ],
 "metadata": {
  "kernelspec": {
   "display_name": "Python 3",
   "language": "python",
   "name": "python3"
  },
  "language_info": {
   "codemirror_mode": {
    "name": "ipython",
    "version": 3
   },
   "file_extension": ".py",
   "mimetype": "text/x-python",
   "name": "python",
   "nbconvert_exporter": "python",
   "pygments_lexer": "ipython3",
   "version": "3.10.0"
  }
 },
 "nbformat": 4,
 "nbformat_minor": 5
}
