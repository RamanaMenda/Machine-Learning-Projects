{
 "cells": [
  {
   "cell_type": "code",
   "execution_count": 1,
   "id": "a8fd0a87-6a36-4a09-bb2f-e1280ffd5b69",
   "metadata": {},
   "outputs": [],
   "source": [
    "import pandas as pd\n",
    "import numpy as np\n",
    "from math import log"
   ]
  },
  {
   "cell_type": "code",
   "execution_count": 2,
   "id": "1a31abd8-c6c9-4fb7-b467-dc2252d6b1e0",
   "metadata": {
    "tags": []
   },
   "outputs": [],
   "source": [
    "data = pd.read_csv('datasets/ml.csv')"
   ]
  },
  {
   "cell_type": "code",
   "execution_count": 3,
   "id": "c18627dc-59bb-434f-b168-6fe22368bc49",
   "metadata": {
    "tags": []
   },
   "outputs": [
    {
     "name": "stdout",
     "output_type": "stream",
     "text": [
      "     outlook  temp humidity    wind play\n",
      "0      Sunny   Hot     High    Weak   No\n",
      "1      Sunny   Hot     High  Strong   No\n",
      "2   Overcast   Hot     High    Weak  Yes\n",
      "3       Rain  Mild     High    Weak  Yes\n",
      "4       Rain  Cool   Normal    Weak  Yes\n",
      "5       Rain  Cool   Normal  Strong   No\n",
      "6   Overcast  Cool   Normal  Strong  Yes\n",
      "7      Sunny  Mild     High    Weak   No\n",
      "8      Sunny  Cool   Normal    Weak  Yes\n",
      "9       Rain  Mild   Normal    Weak  Yes\n",
      "10     Sunny  Mild   Normal  Strong  Yes\n",
      "11  Overcast  Mild     High  Strong  Yes\n",
      "12  Overcast   Hot   Normal    Weak  Yes\n",
      "13      Rain  Mild     High  Strong   No\n"
     ]
    }
   ],
   "source": [
    "print(data)"
   ]
  },
  {
   "cell_type": "code",
   "execution_count": 4,
   "id": "ed2b9b52-97d7-4b8e-8929-f521daa415d3",
   "metadata": {
    "tags": []
   },
   "outputs": [],
   "source": [
    "def entropy(*p):\n",
    "    ret = 0\n",
    "    for i in p:\n",
    "        if i != 0:\n",
    "            ret += (-1)*i*log(i,2)\n",
    "    return ret"
   ]
  },
  {
   "cell_type": "code",
   "execution_count": 5,
   "id": "85474ab9-608e-44b5-a497-7fe811d10b9c",
   "metadata": {
    "tags": []
   },
   "outputs": [
    {
     "data": {
      "text/plain": [
       "0.9402859586706309"
      ]
     },
     "execution_count": 5,
     "metadata": {},
     "output_type": "execute_result"
    }
   ],
   "source": [
    "entropy(9/14, 5/14)"
   ]
  },
  {
   "cell_type": "code",
   "execution_count": 6,
   "id": "45407f76-8760-47ae-bfbf-d5337679e983",
   "metadata": {
    "tags": []
   },
   "outputs": [
    {
     "name": "stdout",
     "output_type": "stream",
     "text": [
      "{'Overcast', 'Sunny', 'Rain'}\n"
     ]
    }
   ],
   "source": [
    "outlook_u = set(data['outlook'])\n",
    "print(outlook_u)"
   ]
  },
  {
   "cell_type": "code",
   "execution_count": 7,
   "id": "d41db353-53ae-4e75-9682-ef0cd91f6bd9",
   "metadata": {},
   "outputs": [
    {
     "name": "stdout",
     "output_type": "stream",
     "text": [
      "outlook\n",
      "temp\n",
      "humidity\n",
      "wind\n",
      "play\n"
     ]
    }
   ],
   "source": [
    "for i in data.keys():\n",
    "    print(i)"
   ]
  },
  {
   "cell_type": "code",
   "execution_count": 8,
   "id": "c900028b-d18b-4705-b29a-631a7be09908",
   "metadata": {
    "tags": []
   },
   "outputs": [
    {
     "name": "stdout",
     "output_type": "stream",
     "text": [
      "Overcast\n",
      "Sunny\n",
      "Rain\n"
     ]
    }
   ],
   "source": [
    "for i in outlook_u:\n",
    "    print(i)"
   ]
  },
  {
   "cell_type": "code",
   "execution_count": 9,
   "id": "f1399207",
   "metadata": {
    "tags": []
   },
   "outputs": [
    {
     "name": "stdout",
     "output_type": "stream",
     "text": [
      "Overcast\tSunny\tRain\t\n",
      "Mild\tHot\tCool\t\n",
      "High\tNormal\t\n",
      "Strong\tWeak\t\n",
      "No\tYes\t\n"
     ]
    }
   ],
   "source": [
    "for key in data.keys():\n",
    "    for i in set(data[key]):\n",
    "        print(i,end='\\t')\n",
    "    print('')"
   ]
  },
  {
   "cell_type": "code",
   "execution_count": 10,
   "id": "cb30cc78-a958-472f-9471-0a138277f532",
   "metadata": {},
   "outputs": [
    {
     "data": {
      "text/html": [
       "<div>\n",
       "<style scoped>\n",
       "    .dataframe tbody tr th:only-of-type {\n",
       "        vertical-align: middle;\n",
       "    }\n",
       "\n",
       "    .dataframe tbody tr th {\n",
       "        vertical-align: top;\n",
       "    }\n",
       "\n",
       "    .dataframe thead th {\n",
       "        text-align: right;\n",
       "    }\n",
       "</style>\n",
       "<table border=\"1\" class=\"dataframe\">\n",
       "  <thead>\n",
       "    <tr style=\"text-align: right;\">\n",
       "      <th></th>\n",
       "      <th>outlook</th>\n",
       "      <th>play</th>\n",
       "    </tr>\n",
       "  </thead>\n",
       "  <tbody>\n",
       "    <tr>\n",
       "      <th>0</th>\n",
       "      <td>Sunny</td>\n",
       "      <td>No</td>\n",
       "    </tr>\n",
       "    <tr>\n",
       "      <th>1</th>\n",
       "      <td>Sunny</td>\n",
       "      <td>No</td>\n",
       "    </tr>\n",
       "    <tr>\n",
       "      <th>2</th>\n",
       "      <td>Overcast</td>\n",
       "      <td>Yes</td>\n",
       "    </tr>\n",
       "    <tr>\n",
       "      <th>3</th>\n",
       "      <td>Rain</td>\n",
       "      <td>Yes</td>\n",
       "    </tr>\n",
       "    <tr>\n",
       "      <th>4</th>\n",
       "      <td>Rain</td>\n",
       "      <td>Yes</td>\n",
       "    </tr>\n",
       "    <tr>\n",
       "      <th>5</th>\n",
       "      <td>Rain</td>\n",
       "      <td>No</td>\n",
       "    </tr>\n",
       "    <tr>\n",
       "      <th>6</th>\n",
       "      <td>Overcast</td>\n",
       "      <td>Yes</td>\n",
       "    </tr>\n",
       "    <tr>\n",
       "      <th>7</th>\n",
       "      <td>Sunny</td>\n",
       "      <td>No</td>\n",
       "    </tr>\n",
       "    <tr>\n",
       "      <th>8</th>\n",
       "      <td>Sunny</td>\n",
       "      <td>Yes</td>\n",
       "    </tr>\n",
       "    <tr>\n",
       "      <th>9</th>\n",
       "      <td>Rain</td>\n",
       "      <td>Yes</td>\n",
       "    </tr>\n",
       "    <tr>\n",
       "      <th>10</th>\n",
       "      <td>Sunny</td>\n",
       "      <td>Yes</td>\n",
       "    </tr>\n",
       "    <tr>\n",
       "      <th>11</th>\n",
       "      <td>Overcast</td>\n",
       "      <td>Yes</td>\n",
       "    </tr>\n",
       "    <tr>\n",
       "      <th>12</th>\n",
       "      <td>Overcast</td>\n",
       "      <td>Yes</td>\n",
       "    </tr>\n",
       "    <tr>\n",
       "      <th>13</th>\n",
       "      <td>Rain</td>\n",
       "      <td>No</td>\n",
       "    </tr>\n",
       "  </tbody>\n",
       "</table>\n",
       "</div>"
      ],
      "text/plain": [
       "     outlook play\n",
       "0      Sunny   No\n",
       "1      Sunny   No\n",
       "2   Overcast  Yes\n",
       "3       Rain  Yes\n",
       "4       Rain  Yes\n",
       "5       Rain   No\n",
       "6   Overcast  Yes\n",
       "7      Sunny   No\n",
       "8      Sunny  Yes\n",
       "9       Rain  Yes\n",
       "10     Sunny  Yes\n",
       "11  Overcast  Yes\n",
       "12  Overcast  Yes\n",
       "13      Rain   No"
      ]
     },
     "execution_count": 10,
     "metadata": {},
     "output_type": "execute_result"
    }
   ],
   "source": [
    "data[['outlook','play']]"
   ]
  },
  {
   "cell_type": "code",
   "execution_count": 11,
   "id": "9bfc60d3-c569-4f0f-bce2-d008cc727ec3",
   "metadata": {
    "tags": []
   },
   "outputs": [
    {
     "data": {
      "text/html": [
       "<div>\n",
       "<style scoped>\n",
       "    .dataframe tbody tr th:only-of-type {\n",
       "        vertical-align: middle;\n",
       "    }\n",
       "\n",
       "    .dataframe tbody tr th {\n",
       "        vertical-align: top;\n",
       "    }\n",
       "\n",
       "    .dataframe thead th {\n",
       "        text-align: right;\n",
       "    }\n",
       "</style>\n",
       "<table border=\"1\" class=\"dataframe\">\n",
       "  <thead>\n",
       "    <tr style=\"text-align: right;\">\n",
       "      <th></th>\n",
       "      <th>outlook</th>\n",
       "      <th>temp</th>\n",
       "      <th>humidity</th>\n",
       "      <th>wind</th>\n",
       "      <th>play</th>\n",
       "    </tr>\n",
       "  </thead>\n",
       "  <tbody>\n",
       "    <tr>\n",
       "      <th>3</th>\n",
       "      <td>Rain</td>\n",
       "      <td>Mild</td>\n",
       "      <td>High</td>\n",
       "      <td>Weak</td>\n",
       "      <td>Yes</td>\n",
       "    </tr>\n",
       "    <tr>\n",
       "      <th>4</th>\n",
       "      <td>Rain</td>\n",
       "      <td>Cool</td>\n",
       "      <td>Normal</td>\n",
       "      <td>Weak</td>\n",
       "      <td>Yes</td>\n",
       "    </tr>\n",
       "    <tr>\n",
       "      <th>9</th>\n",
       "      <td>Rain</td>\n",
       "      <td>Mild</td>\n",
       "      <td>Normal</td>\n",
       "      <td>Weak</td>\n",
       "      <td>Yes</td>\n",
       "    </tr>\n",
       "  </tbody>\n",
       "</table>\n",
       "</div>"
      ],
      "text/plain": [
       "  outlook  temp humidity  wind play\n",
       "3    Rain  Mild     High  Weak  Yes\n",
       "4    Rain  Cool   Normal  Weak  Yes\n",
       "9    Rain  Mild   Normal  Weak  Yes"
      ]
     },
     "execution_count": 11,
     "metadata": {},
     "output_type": "execute_result"
    }
   ],
   "source": [
    "data[(data['play'] == 'Yes') & (data['outlook'] == 'Rain')]"
   ]
  },
  {
   "cell_type": "code",
   "execution_count": 12,
   "id": "91d74445-3fa6-4f16-8da0-c759a9d49f6c",
   "metadata": {
    "tags": []
   },
   "outputs": [],
   "source": [
    "x = len(data[data['play'] == 'Yes'])/len(data)\n",
    "S = entropy(x, 1-x)"
   ]
  },
  {
   "cell_type": "code",
   "execution_count": 13,
   "id": "dccd4987-b772-486d-a48c-024b4ce039f9",
   "metadata": {
    "tags": []
   },
   "outputs": [],
   "source": [
    "keys = data.keys()[:-1]\n",
    "l = len(data)"
   ]
  },
  {
   "cell_type": "code",
   "execution_count": 14,
   "id": "2a96fc02-046d-4390-801b-2099ba21c201",
   "metadata": {
    "tags": []
   },
   "outputs": [],
   "source": [
    "entropys = []\n",
    "for key in keys:\n",
    "    e = 0\n",
    "    for i in set(data[key]):\n",
    "        x = len(data[(data['play'] == 'Yes') & (data[key] == i)])\n",
    "        y = len(data[data[key] == i])\n",
    "        p = x/y\n",
    "        e += (y/l)*entropy(p, 1-p)\n",
    "    entropys.append(e)"
   ]
  },
  {
   "cell_type": "code",
   "execution_count": 15,
   "id": "9a65b502-425f-433d-8a35-771d56a7d051",
   "metadata": {
    "tags": []
   },
   "outputs": [
    {
     "name": "stdout",
     "output_type": "stream",
     "text": [
      "[0.6935361388961918, 0.9110633930116763, 0.7884504573082896, 0.8921589282623617]\n"
     ]
    }
   ],
   "source": [
    "print(entropys)"
   ]
  },
  {
   "cell_type": "code",
   "execution_count": 16,
   "id": "1500e4cf-9b37-47c5-9736-725779a86e46",
   "metadata": {
    "tags": []
   },
   "outputs": [
    {
     "name": "stdout",
     "output_type": "stream",
     "text": [
      "[0.24674981977443933, 0.02922256565895487, 0.15183550136234159, 0.04812703040826949]\n"
     ]
    }
   ],
   "source": [
    "gain = [S-i for i in entropys]\n",
    "print(gain)"
   ]
  },
  {
   "cell_type": "code",
   "execution_count": 17,
   "id": "d2944799-6a7b-407e-ad60-f815f00779ee",
   "metadata": {
    "tags": []
   },
   "outputs": [
    {
     "name": "stdout",
     "output_type": "stream",
     "text": [
      "{}\n"
     ]
    }
   ],
   "source": [
    "tree = {}\n",
    "print(tree)"
   ]
  },
  {
   "cell_type": "code",
   "execution_count": 18,
   "id": "978f2804",
   "metadata": {
    "tags": []
   },
   "outputs": [],
   "source": [
    " def root(data,t):\n",
    "    x = len(data[data['play'] == 'Yes'])/len(data)\n",
    "    S = entropy(x, 1-x)\n",
    "    if S == 0:\n",
    "        if x == 1:\n",
    "            t['Yes'] = 'Yes'\n",
    "        else:\n",
    "            t['No'] = 'No'\n",
    "        return\n",
    "    keys = data.keys()[:-1]\n",
    "    l = len(data)\n",
    "    entropys = []\n",
    "    for key in keys:\n",
    "        e = 0\n",
    "        for i in set(data[key]):\n",
    "            x = len(data[(data['play'] == 'Yes') & (data[key] == i)])\n",
    "            y = len(data[data[key] == i])\n",
    "            p = x/y\n",
    "            e += (y/l)*entropy(p, 1-p)\n",
    "        entropys.append(e)\n",
    "    print(entropys)\n",
    "    gain = [S-i for i in entropys]\n",
    "    print(gain)\n",
    "    m = max(gain)\n",
    "    print(m)\n",
    "    a = keys[gain.index(m)] \n",
    "    t[a] = {}\n",
    "    for i in set(data[a]):\n",
    "        t[a][i] = {}\n",
    "        path = t[a][i]\n",
    "        asdf = data[data[a]==i]\n",
    "        newdata = asdf.drop([a],axis=1)\n",
    "        root(newdata,path)"
   ]
  },
  {
   "cell_type": "code",
   "execution_count": 19,
   "id": "f67f3dda-265d-408e-bb21-56593091a4b5",
   "metadata": {
    "tags": []
   },
   "outputs": [
    {
     "name": "stdout",
     "output_type": "stream",
     "text": [
      "[0.6935361388961918, 0.9110633930116763, 0.7884504573082896, 0.8921589282623617]\n",
      "[0.24674981977443933, 0.02922256565895487, 0.15183550136234159, 0.04812703040826949]\n",
      "0.24674981977443933\n",
      "[0.4, 0.0, 0.9509775004326937]\n",
      "[0.5709505944546686, 0.9709505944546686, 0.01997309402197489]\n",
      "0.9709505944546686\n",
      "[0.9509775004326937, 0.9509775004326937, 0.0]\n",
      "[0.01997309402197489, 0.01997309402197489, 0.9709505944546686]\n",
      "0.9709505944546686\n"
     ]
    }
   ],
   "source": [
    "root(data,tree)"
   ]
  },
  {
   "cell_type": "code",
   "execution_count": 20,
   "id": "dd9df6ae-1ac4-488d-ae9b-ac5a46c5f08a",
   "metadata": {
    "tags": []
   },
   "outputs": [
    {
     "name": "stdout",
     "output_type": "stream",
     "text": [
      "{'outlook': {'Overcast': {'Yes': 'Yes'}, 'Sunny': {'humidity': {'High': {'No': 'No'}, 'Normal': {'Yes': 'Yes'}}}, 'Rain': {'wind': {'Strong': {'No': 'No'}, 'Weak': {'Yes': 'Yes'}}}}}\n"
     ]
    }
   ],
   "source": [
    "print(tree)"
   ]
  },
  {
   "cell_type": "code",
   "execution_count": 21,
   "id": "a13e92a5-9d75-4bd7-85fb-41dd22f7ac8f",
   "metadata": {
    "tags": []
   },
   "outputs": [
    {
     "name": "stdout",
     "output_type": "stream",
     "text": [
      "    temp humidity    wind play\n",
      "0    Hot     High    Weak   No\n",
      "1    Hot     High  Strong   No\n",
      "7   Mild     High    Weak   No\n",
      "8   Cool   Normal    Weak  Yes\n",
      "10  Mild   Normal  Strong  Yes\n"
     ]
    }
   ],
   "source": [
    "asdf = data[data['outlook']=='Sunny']\n",
    "drf = asdf.drop(['outlook'],axis=1)\n",
    "print(drf)"
   ]
  },
  {
   "cell_type": "code",
   "execution_count": 22,
   "id": "b33811be-e6a8-44cc-bff6-6e5291c1ada1",
   "metadata": {},
   "outputs": [
    {
     "name": "stdout",
     "output_type": "stream",
     "text": [
      "{'Overcast': {'Yes': 'Yes'}, 'Sunny': {'humidity': {'High': {'No': 'No'}, 'Normal': {'Yes': 'Yes'}}}, 'Rain': {'wind': {'Strong': {'No': 'No'}, 'Weak': {'Yes': 'Yes'}}}}\n"
     ]
    }
   ],
   "source": [
    "print(tree['outlook'])"
   ]
  },
  {
   "cell_type": "code",
   "execution_count": 23,
   "id": "9a1a04f5-2eca-4942-b9aa-190b8d78fb96",
   "metadata": {
    "tags": []
   },
   "outputs": [],
   "source": [
    "data1 = pd.read_csv('datasets/ml_test.csv')"
   ]
  },
  {
   "cell_type": "code",
   "execution_count": 24,
   "id": "1b4d14d8-6bab-464d-9d60-6b8e1840efb1",
   "metadata": {
    "tags": []
   },
   "outputs": [
    {
     "name": "stdout",
     "output_type": "stream",
     "text": [
      "No Yes\n",
      "Yes No\n",
      "Yes Yes\n",
      "Yes Yes\n",
      "Yes Yes\n",
      "Yes Yes\n",
      "No No\n",
      "No Yes\n",
      "No Yes\n",
      "Yes Yes\n",
      "Yes No\n",
      "Yes No\n",
      "No Yes\n",
      "Yes Yes\n"
     ]
    }
   ],
   "source": [
    "for d in data1.iterrows():\n",
    "    t = tree\n",
    "    key = [i for i in t.keys()]\n",
    "    while key[0] != 'No' and key[0] != 'Yes':\n",
    "        val = d[1][key[0]]\n",
    "        t = t[key[0]]\n",
    "        t = t[val]\n",
    "        key = [i for i in t.keys()]\n",
    "    print(d[1]['play'],key[0])"
   ]
  },
  {
   "cell_type": "code",
   "execution_count": 25,
   "id": "da325168-c7b1-4e06-a971-cce56368c59e",
   "metadata": {
    "tags": []
   },
   "outputs": [],
   "source": [
    "def confusion():\n",
    "    confmat = np.array([0,0,0,0])\n",
    "    confmat = confmat.reshape(2,2)\n",
    "    for d in data1.iterrows():\n",
    "        t = tree\n",
    "        key = [i for i in t.keys()]\n",
    "        while key[0] != 'No' and key[0] != 'Yes':\n",
    "            val = d[1][key[0]]\n",
    "            t = t[key[0]]\n",
    "            t = t[val]\n",
    "            key = [i for i in t.keys()]\n",
    "        predy = key[0]\n",
    "        y = d[1]['play']\n",
    "        if y == predy:\n",
    "            if y == 'Yes':\n",
    "                confmat[0][0] += 1\n",
    "            else:\n",
    "                confmat[1][1] += 1\n",
    "        else:\n",
    "            if y == 'Yes':\n",
    "                confmat[1][0] += 1\n",
    "            else:\n",
    "                confmat[0][1] += 1\n",
    "    return confmat"
   ]
  },
  {
   "cell_type": "code",
   "execution_count": 26,
   "id": "dd91904d-e755-408a-a3fb-c97081dda450",
   "metadata": {
    "tags": []
   },
   "outputs": [
    {
     "data": {
      "text/plain": [
       "array([[6, 4],\n",
       "       [3, 1]])"
      ]
     },
     "execution_count": 26,
     "metadata": {},
     "output_type": "execute_result"
    }
   ],
   "source": [
    "confusion()"
   ]
  },
  {
   "cell_type": "code",
   "execution_count": 27,
   "id": "69e4ff55-3aa7-439c-a7c8-9fe8bd106fa7",
   "metadata": {
    "tags": []
   },
   "outputs": [],
   "source": [
    "def accuracy(mat):\n",
    "    return (mat[0][0] + mat[1][1])/(mat[0][0] + mat[0][1] + mat[1][0] + mat[1][1])\n",
    "def precision(mat):\n",
    "    return (mat[0][0])/(mat[0][0] + mat[1][0])\n",
    "def recall(mat):\n",
    "    return (mat[0][0])/(mat[0][0] + mat[0][1])\n",
    "def F1Score(p,r):\n",
    "    return (2*(p*r))/(p + r)"
   ]
  },
  {
   "cell_type": "code",
   "execution_count": 28,
   "id": "12421c45-0edb-4e27-9105-f507d34881f4",
   "metadata": {
    "tags": []
   },
   "outputs": [
    {
     "name": "stdout",
     "output_type": "stream",
     "text": [
      "0.5 0.6666666666666666 0.6 0.631578947368421\n"
     ]
    }
   ],
   "source": [
    "mat = confusion() \n",
    "acc = accuracy(mat)\n",
    "pre = precision(mat)\n",
    "rec = recall(mat)\n",
    "fscore = F1Score(pre, rec)\n",
    "print(acc, pre, rec, fscore)"
   ]
  },
  {
   "cell_type": "code",
   "execution_count": null,
   "id": "961caedd-3096-42a0-9886-263995f81768",
   "metadata": {},
   "outputs": [],
   "source": []
  }
 ],
 "metadata": {
  "kernelspec": {
   "display_name": "Python 3",
   "language": "python",
   "name": "python3"
  },
  "language_info": {
   "codemirror_mode": {
    "name": "ipython",
    "version": 3
   },
   "file_extension": ".py",
   "mimetype": "text/x-python",
   "name": "python",
   "nbconvert_exporter": "python",
   "pygments_lexer": "ipython3",
   "version": "3.10.0"
  }
 },
 "nbformat": 4,
 "nbformat_minor": 5
}
