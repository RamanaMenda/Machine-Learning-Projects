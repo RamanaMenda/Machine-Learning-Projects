{
 "cells": [
  {
   "cell_type": "markdown",
   "id": "8051d7ea-f6c4-4469-b54d-3422fea03bfc",
   "metadata": {
    "tags": []
   },
   "source": [
    "# KNN Algorithm"
   ]
  },
  {
   "cell_type": "code",
   "execution_count": 1,
   "id": "f22c8640-34f9-4861-a1ef-bb1ff7de3add",
   "metadata": {
    "tags": []
   },
   "outputs": [],
   "source": [
    "import pandas as pd\n",
    "import numpy as np"
   ]
  },
  {
   "cell_type": "code",
   "execution_count": 2,
   "id": "af71d2ee-e068-4586-8f18-3825cbfe0ce5",
   "metadata": {
    "tags": []
   },
   "outputs": [],
   "source": [
    "data = pd.read_csv('datasets/Classification/KNNDataset.csv')"
   ]
  },
  {
   "cell_type": "code",
   "execution_count": 3,
   "id": "b9d2ae96-5d1a-4a64-9979-fd5143733e12",
   "metadata": {
    "tags": []
   },
   "outputs": [],
   "source": [
    "data.rename(columns = {\"diagnosis\": \"Class\"}, inplace=True)\n",
    "data.dropna(axis=1, inplace=True)"
   ]
  },
  {
   "cell_type": "code",
   "execution_count": 4,
   "id": "646b9e79-1099-4a18-bf50-08923d296a40",
   "metadata": {
    "tags": []
   },
   "outputs": [
    {
     "name": "stdout",
     "output_type": "stream",
     "text": [
      "['M' 'B']\n"
     ]
    }
   ],
   "source": [
    "clss = data[\"Class\"].unique()\n",
    "print(clss)"
   ]
  },
  {
   "cell_type": "code",
   "execution_count": 5,
   "id": "af4f7d99-aa6b-4b1a-8693-20319d10330d",
   "metadata": {
    "tags": []
   },
   "outputs": [
    {
     "name": "stdout",
     "output_type": "stream",
     "text": [
      "Index(['id', 'Class', 'radius_mean', 'texture_mean', 'perimeter_mean',\n",
      "       'area_mean', 'smoothness_mean', 'compactness_mean', 'concavity_mean',\n",
      "       'concave points_mean', 'symmetry_mean', 'fractal_dimension_mean',\n",
      "       'radius_se', 'texture_se', 'perimeter_se', 'area_se', 'smoothness_se',\n",
      "       'compactness_se', 'concavity_se', 'concave points_se', 'symmetry_se',\n",
      "       'fractal_dimension_se', 'radius_worst', 'texture_worst',\n",
      "       'perimeter_worst', 'area_worst', 'smoothness_worst',\n",
      "       'compactness_worst', 'concavity_worst', 'concave points_worst',\n",
      "       'symmetry_worst', 'fractal_dimension_worst'],\n",
      "      dtype='object')\n"
     ]
    }
   ],
   "source": [
    "print(data.columns)"
   ]
  },
  {
   "cell_type": "code",
   "execution_count": 6,
   "id": "db4e89d3-f4d1-4469-9007-476b921ec2d2",
   "metadata": {
    "tags": []
   },
   "outputs": [],
   "source": [
    "trainData = data.sample(frac=0.8, random_state=0)"
   ]
  },
  {
   "cell_type": "code",
   "execution_count": 7,
   "id": "133c65bb-aa17-4667-afe2-8f469f705a57",
   "metadata": {
    "tags": []
   },
   "outputs": [
    {
     "name": "stdout",
     "output_type": "stream",
     "text": [
      "           id Class  radius_mean  texture_mean  perimeter_mean  area_mean  \\\n",
      "512    915691     M        13.40         20.52           88.64      556.7   \n",
      "457   9112367     B        13.21         25.25           84.10      537.9   \n",
      "439    909410     B        14.02         15.66           89.59      606.5   \n",
      "298    892214     B        14.26         18.17           91.22      633.1   \n",
      "37     854941     B        13.03         18.42           82.61      523.8   \n",
      "..        ...   ...          ...           ...             ...        ...   \n",
      "86   86135501     M        14.48         21.46           94.25      648.2   \n",
      "266   8910251     B        10.60         18.95           69.28      346.4   \n",
      "36     854268     M        14.25         21.72           93.63      633.0   \n",
      "193    875263     M        12.34         26.86           81.15      477.4   \n",
      "58     857810     B        13.05         19.31           82.61      527.2   \n",
      "\n",
      "     smoothness_mean  compactness_mean  concavity_mean  concave points_mean  \\\n",
      "512          0.11060           0.14690        0.144500             0.081720   \n",
      "457          0.08791           0.05205        0.027720             0.020680   \n",
      "439          0.07966           0.05581        0.020870             0.026520   \n",
      "298          0.06576           0.05220        0.024750             0.013740   \n",
      "37           0.08983           0.03766        0.025620             0.029230   \n",
      "..               ...               ...             ...                  ...   \n",
      "86           0.09444           0.09947        0.120400             0.049380   \n",
      "266          0.09688           0.11470        0.063870             0.026420   \n",
      "36           0.09823           0.10980        0.131900             0.055980   \n",
      "193          0.10340           0.13530        0.108500             0.045620   \n",
      "58           0.08060           0.03789        0.000692             0.004167   \n",
      "\n",
      "     ...  radius_worst  texture_worst  perimeter_worst  area_worst  \\\n",
      "512  ...         16.41          29.66           113.30       844.4   \n",
      "457  ...         14.35          34.23            91.29       632.9   \n",
      "439  ...         14.91          19.31            96.53       688.9   \n",
      "298  ...         16.22          25.26           105.80       819.7   \n",
      "37   ...         13.30          22.81            84.46       545.9   \n",
      "..   ...           ...            ...              ...         ...   \n",
      "86   ...         16.21          29.25           108.40       808.9   \n",
      "266  ...         11.88          22.94            78.28       424.8   \n",
      "36   ...         15.89          30.36           116.20       799.6   \n",
      "193  ...         15.65          39.34           101.70       768.9   \n",
      "58   ...         14.23          22.25            90.24       624.1   \n",
      "\n",
      "     smoothness_worst  compactness_worst  concavity_worst  \\\n",
      "512           0.15740            0.38560         0.510600   \n",
      "457           0.12890            0.10630         0.139000   \n",
      "439           0.10340            0.10170         0.062600   \n",
      "298           0.09445            0.21670         0.156500   \n",
      "37            0.09701            0.04619         0.048330   \n",
      "..                ...                ...              ...   \n",
      "86            0.13060            0.19760         0.334900   \n",
      "266           0.12130            0.25150         0.191600   \n",
      "36            0.14460            0.42380         0.518600   \n",
      "193           0.17850            0.47060         0.442500   \n",
      "58            0.10210            0.06191         0.001845   \n",
      "\n",
      "     concave points_worst  symmetry_worst  fractal_dimension_worst  \n",
      "512               0.20510          0.3585                  0.11090  \n",
      "457               0.06005          0.2444                  0.06788  \n",
      "439               0.08216          0.2136                  0.06710  \n",
      "298               0.07530          0.2636                  0.07676  \n",
      "37                0.05013          0.1987                  0.06169  \n",
      "..                    ...             ...                      ...  \n",
      "86                0.12250          0.3020                  0.06846  \n",
      "266               0.07926          0.2940                  0.07587  \n",
      "36                0.14470          0.3591                  0.10140  \n",
      "193               0.14590          0.3215                  0.12050  \n",
      "58                0.01111          0.2439                  0.06289  \n",
      "\n",
      "[455 rows x 32 columns]\n"
     ]
    }
   ],
   "source": [
    "print(trainData)"
   ]
  },
  {
   "cell_type": "code",
   "execution_count": 8,
   "id": "7bf26a4f-08a4-4d9a-8695-93bff50de177",
   "metadata": {},
   "outputs": [],
   "source": [
    "testData = data.drop(trainData.index)"
   ]
  },
  {
   "cell_type": "code",
   "execution_count": 9,
   "id": "07a1a739-cb82-41d6-a73d-d4eaa15987cf",
   "metadata": {
    "tags": []
   },
   "outputs": [],
   "source": [
    "def k_nn(x,k):\n",
    "    l = []\n",
    "    keys = list(testData.columns)\n",
    "    if \"id\" in keys:\n",
    "        keys.remove(\"id\")\n",
    "    keys.remove(\"Class\")\n",
    "    n = len(keys)\n",
    "    for d in data.iterrows():\n",
    "        dist = 0\n",
    "        for i in range(n):\n",
    "            dist += (x[i] - d[1][keys[i]])**2\n",
    "        l.append((dist,d[0]))\n",
    "    l.sort()\n",
    "    d = {}\n",
    "    for i in range(k):\n",
    "        val = data.iloc[l[i][1]]['Class']\n",
    "        d[val] = d.get(val,0) + 1\n",
    "    predClass = None\n",
    "    maxval = 0\n",
    "    for i in d.keys():\n",
    "        if d[i] > maxval:\n",
    "            maxval = d[i]\n",
    "            predClass = i\n",
    "    return predClass"
   ]
  },
  {
   "cell_type": "code",
   "execution_count": 10,
   "id": "61cde68a-5a61-4e55-9c57-c39c8db7e544",
   "metadata": {
    "tags": []
   },
   "outputs": [],
   "source": [
    "def confusion(kValue):\n",
    "    col = list(data.columns)\n",
    "    if \"id\" in col:\n",
    "        col.remove(\"id\")\n",
    "    target = \"Class\"\n",
    "    col.remove(\"Class\")\n",
    "    classes = {}\n",
    "    clss = data[\"Class\"].unique()\n",
    "    i = 0\n",
    "    for clas in clss:\n",
    "        classes[clas] = i\n",
    "        i += 1\n",
    "    n = len(classes)\n",
    "    confmat = np.zeros(n*n)\n",
    "    confmat = confmat.reshape(n,n)\n",
    "    for d in testData.iterrows():\n",
    "        x = [d[1][i] for i in col]\n",
    "        y = d[1][target]\n",
    "        predy = k_nn(x, kValue)\n",
    "        confmat[classes[predy]][classes[y]] += 1\n",
    "    return confmat"
   ]
  },
  {
   "cell_type": "markdown",
   "id": "2ba9cf86-9f31-42d5-8602-ed03de474008",
   "metadata": {
    "tags": []
   },
   "source": [
    "### Performance Evaluation"
   ]
  },
  {
   "cell_type": "code",
   "execution_count": 11,
   "id": "af91bc0b-a2c6-4531-9bca-bbf9dd486a92",
   "metadata": {
    "tags": []
   },
   "outputs": [],
   "source": [
    "def accuracy(mat):\n",
    "    n = len(mat)\n",
    "    num = 0\n",
    "    den = 0\n",
    "    for i in range(n):\n",
    "        num += mat[i][i]\n",
    "        den += sum(mat[i])\n",
    "    return num/den"
   ]
  },
  {
   "cell_type": "code",
   "execution_count": 12,
   "id": "d1dd8d45-3efb-4696-9685-ed6865e9b3cf",
   "metadata": {
    "tags": []
   },
   "outputs": [],
   "source": [
    "def precision(mat, key):\n",
    "    n = len(mat)\n",
    "    num = mat[key][key]\n",
    "    den = 0\n",
    "    for i in range(n):\n",
    "        den += mat[i][key]\n",
    "    return num/den"
   ]
  },
  {
   "cell_type": "code",
   "execution_count": 13,
   "id": "7369e782-8240-4feb-8e2c-3b9df22a8f8c",
   "metadata": {
    "tags": []
   },
   "outputs": [],
   "source": [
    "def recall(mat, key):\n",
    "    n = len(mat)\n",
    "    num = mat[key][key]\n",
    "    den = 0\n",
    "    for i in range(n):\n",
    "        den += mat[key][i]\n",
    "    return num/den"
   ]
  },
  {
   "cell_type": "code",
   "execution_count": 14,
   "id": "738e8cd6-8dd8-4ea5-8c61-ee3bdc6d53ee",
   "metadata": {
    "tags": []
   },
   "outputs": [],
   "source": [
    "def F1Score(p,r):\n",
    "    return (2*(p*r))/(p + r)"
   ]
  },
  {
   "cell_type": "markdown",
   "id": "443a33f8-a137-4c94-bfbf-5d2747d927d0",
   "metadata": {
    "tags": []
   },
   "source": [
    "### For K == 12"
   ]
  },
  {
   "cell_type": "code",
   "execution_count": 15,
   "id": "5d1107fa-6e79-4aa1-8552-31003ccebd5a",
   "metadata": {
    "tags": []
   },
   "outputs": [
    {
     "name": "stdout",
     "output_type": "stream",
     "text": [
      "0.9385964912280702 0.8863636363636364 0.9512195121951219 0.9176470588235294\n"
     ]
    }
   ],
   "source": [
    "mat = confusion(12) \n",
    "acc = accuracy(mat)\n",
    "pre = precision(mat,0)\n",
    "rec = recall(mat,0)\n",
    "fscore = F1Score(pre, rec)\n",
    "print(acc, pre, rec, fscore)"
   ]
  },
  {
   "cell_type": "markdown",
   "id": "728bb03c-0726-4243-9e44-8659fa525f26",
   "metadata": {
    "jp-MarkdownHeadingCollapsed": true,
    "tags": []
   },
   "source": [
    "### For K == 15"
   ]
  },
  {
   "cell_type": "code",
   "execution_count": 16,
   "id": "8270cced-2cfd-45e7-b2f6-63ab35b7cc82",
   "metadata": {
    "tags": []
   },
   "outputs": [
    {
     "name": "stdout",
     "output_type": "stream",
     "text": [
      "0.9298245614035088 0.8409090909090909 0.9736842105263158 0.9024390243902439\n"
     ]
    }
   ],
   "source": [
    "mat = confusion(15) \n",
    "acc = accuracy(mat)\n",
    "pre = precision(mat,0)\n",
    "rec = recall(mat,0)\n",
    "fscore = F1Score(pre, rec)\n",
    "print(acc, pre, rec, fscore)"
   ]
  },
  {
   "cell_type": "markdown",
   "id": "3d4c49ec-0c51-4dd4-b7c0-38aeb963968f",
   "metadata": {
    "jp-MarkdownHeadingCollapsed": true,
    "tags": []
   },
   "source": [
    "### For K == 18"
   ]
  },
  {
   "cell_type": "code",
   "execution_count": 17,
   "id": "4e678a3a-e481-4295-9715-66e2f7a5035a",
   "metadata": {
    "tags": []
   },
   "outputs": [
    {
     "name": "stdout",
     "output_type": "stream",
     "text": [
      "0.9298245614035088 0.8409090909090909 0.9736842105263158 0.9024390243902439\n"
     ]
    }
   ],
   "source": [
    "mat = confusion(18) \n",
    "acc = accuracy(mat)\n",
    "pre = precision(mat,0)\n",
    "rec = recall(mat,0)\n",
    "fscore = F1Score(pre, rec)\n",
    "print(acc, pre, rec, fscore)"
   ]
  },
  {
   "cell_type": "markdown",
   "id": "5524f3b9-acf8-4c9d-846f-da821ddbb2c7",
   "metadata": {
    "tags": []
   },
   "source": [
    "### For K == 21"
   ]
  },
  {
   "cell_type": "code",
   "execution_count": 18,
   "id": "9c12d2ea-95fd-4367-90a4-545d01a7ace0",
   "metadata": {
    "tags": []
   },
   "outputs": [
    {
     "name": "stdout",
     "output_type": "stream",
     "text": [
      "0.9210526315789473 0.8409090909090909 0.9487179487179487 0.891566265060241\n"
     ]
    }
   ],
   "source": [
    "mat = confusion(21) \n",
    "acc = accuracy(mat)\n",
    "pre = precision(mat,0)\n",
    "rec = recall(mat,0)\n",
    "fscore = F1Score(pre, rec)\n",
    "print(acc, pre, rec, fscore)"
   ]
  },
  {
   "cell_type": "code",
   "execution_count": null,
   "id": "8fefd3fa-3551-4ada-a64f-3bcfa1efb65d",
   "metadata": {},
   "outputs": [],
   "source": []
  }
 ],
 "metadata": {
  "kernelspec": {
   "display_name": "Python 3",
   "language": "python",
   "name": "python3"
  },
  "language_info": {
   "codemirror_mode": {
    "name": "ipython",
    "version": 3
   },
   "file_extension": ".py",
   "mimetype": "text/x-python",
   "name": "python",
   "nbconvert_exporter": "python",
   "pygments_lexer": "ipython3",
   "version": "3.10.0"
  }
 },
 "nbformat": 4,
 "nbformat_minor": 5
}
