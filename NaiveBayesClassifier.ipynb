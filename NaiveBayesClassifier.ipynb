{
 "cells": [
  {
   "cell_type": "code",
   "execution_count": 1,
   "id": "5f85d133-09bf-41c6-be2b-125c659cb51a",
   "metadata": {
    "tags": []
   },
   "outputs": [],
   "source": [
    "import pandas as pd\n",
    "import numpy as np"
   ]
  },
  {
   "cell_type": "code",
   "execution_count": 2,
   "id": "ad848c7a-1883-4613-aaaa-03f3a9cfdb90",
   "metadata": {
    "tags": []
   },
   "outputs": [],
   "source": [
    "data = pd.read_csv('datasets/Classification/xrayfull.csv')"
   ]
  },
  {
   "cell_type": "code",
   "execution_count": 3,
   "id": "3882e3da-3088-4887-a4bd-c700fd75d53a",
   "metadata": {
    "tags": []
   },
   "outputs": [],
   "source": [
    "# data =  data.sample(frac=0.01, random_state=0)"
   ]
  },
  {
   "cell_type": "code",
   "execution_count": 4,
   "id": "9c6c0ba7-de42-433a-8091-2cc8c9653c3b",
   "metadata": {
    "tags": []
   },
   "outputs": [
    {
     "data": {
      "text/html": [
       "<div>\n",
       "<style scoped>\n",
       "    .dataframe tbody tr th:only-of-type {\n",
       "        vertical-align: middle;\n",
       "    }\n",
       "\n",
       "    .dataframe tbody tr th {\n",
       "        vertical-align: top;\n",
       "    }\n",
       "\n",
       "    .dataframe thead th {\n",
       "        text-align: right;\n",
       "    }\n",
       "</style>\n",
       "<table border=\"1\" class=\"dataframe\">\n",
       "  <thead>\n",
       "    <tr style=\"text-align: right;\">\n",
       "      <th></th>\n",
       "      <th>Image Index</th>\n",
       "      <th>fold</th>\n",
       "      <th>Cardiomegaly</th>\n",
       "      <th>Emphysema</th>\n",
       "      <th>Effusion</th>\n",
       "      <th>Hernia</th>\n",
       "      <th>Infiltration</th>\n",
       "      <th>Mass</th>\n",
       "      <th>Nodule</th>\n",
       "      <th>Atelectasis</th>\n",
       "      <th>Pneumothorax</th>\n",
       "      <th>Pleural_Thickening</th>\n",
       "      <th>Pneumonia</th>\n",
       "      <th>Fibrosis</th>\n",
       "      <th>Edema</th>\n",
       "      <th>Consolidation</th>\n",
       "    </tr>\n",
       "  </thead>\n",
       "  <tbody>\n",
       "    <tr>\n",
       "      <th>0</th>\n",
       "      <td>00000001_000.png</td>\n",
       "      <td>train</td>\n",
       "      <td>1.0</td>\n",
       "      <td>0.0</td>\n",
       "      <td>0.0</td>\n",
       "      <td>0.0</td>\n",
       "      <td>0.0</td>\n",
       "      <td>0.0</td>\n",
       "      <td>0.0</td>\n",
       "      <td>0.0</td>\n",
       "      <td>0.0</td>\n",
       "      <td>0.0</td>\n",
       "      <td>0.0</td>\n",
       "      <td>0.0</td>\n",
       "      <td>0.0</td>\n",
       "      <td>0.0</td>\n",
       "    </tr>\n",
       "    <tr>\n",
       "      <th>1</th>\n",
       "      <td>00000001_001.png</td>\n",
       "      <td>train</td>\n",
       "      <td>1.0</td>\n",
       "      <td>1.0</td>\n",
       "      <td>0.0</td>\n",
       "      <td>0.0</td>\n",
       "      <td>0.0</td>\n",
       "      <td>0.0</td>\n",
       "      <td>0.0</td>\n",
       "      <td>0.0</td>\n",
       "      <td>0.0</td>\n",
       "      <td>0.0</td>\n",
       "      <td>0.0</td>\n",
       "      <td>0.0</td>\n",
       "      <td>0.0</td>\n",
       "      <td>0.0</td>\n",
       "    </tr>\n",
       "    <tr>\n",
       "      <th>2</th>\n",
       "      <td>00000001_002.png</td>\n",
       "      <td>train</td>\n",
       "      <td>1.0</td>\n",
       "      <td>0.0</td>\n",
       "      <td>1.0</td>\n",
       "      <td>0.0</td>\n",
       "      <td>0.0</td>\n",
       "      <td>0.0</td>\n",
       "      <td>0.0</td>\n",
       "      <td>0.0</td>\n",
       "      <td>0.0</td>\n",
       "      <td>0.0</td>\n",
       "      <td>0.0</td>\n",
       "      <td>0.0</td>\n",
       "      <td>0.0</td>\n",
       "      <td>0.0</td>\n",
       "    </tr>\n",
       "    <tr>\n",
       "      <th>3</th>\n",
       "      <td>00000002_000.png</td>\n",
       "      <td>train</td>\n",
       "      <td>0.0</td>\n",
       "      <td>0.0</td>\n",
       "      <td>0.0</td>\n",
       "      <td>0.0</td>\n",
       "      <td>0.0</td>\n",
       "      <td>0.0</td>\n",
       "      <td>0.0</td>\n",
       "      <td>0.0</td>\n",
       "      <td>0.0</td>\n",
       "      <td>0.0</td>\n",
       "      <td>0.0</td>\n",
       "      <td>0.0</td>\n",
       "      <td>0.0</td>\n",
       "      <td>0.0</td>\n",
       "    </tr>\n",
       "    <tr>\n",
       "      <th>4</th>\n",
       "      <td>00000003_000.png</td>\n",
       "      <td>train</td>\n",
       "      <td>0.0</td>\n",
       "      <td>0.0</td>\n",
       "      <td>0.0</td>\n",
       "      <td>1.0</td>\n",
       "      <td>0.0</td>\n",
       "      <td>0.0</td>\n",
       "      <td>0.0</td>\n",
       "      <td>0.0</td>\n",
       "      <td>0.0</td>\n",
       "      <td>0.0</td>\n",
       "      <td>0.0</td>\n",
       "      <td>0.0</td>\n",
       "      <td>0.0</td>\n",
       "      <td>0.0</td>\n",
       "    </tr>\n",
       "    <tr>\n",
       "      <th>...</th>\n",
       "      <td>...</td>\n",
       "      <td>...</td>\n",
       "      <td>...</td>\n",
       "      <td>...</td>\n",
       "      <td>...</td>\n",
       "      <td>...</td>\n",
       "      <td>...</td>\n",
       "      <td>...</td>\n",
       "      <td>...</td>\n",
       "      <td>...</td>\n",
       "      <td>...</td>\n",
       "      <td>...</td>\n",
       "      <td>...</td>\n",
       "      <td>...</td>\n",
       "      <td>...</td>\n",
       "      <td>...</td>\n",
       "    </tr>\n",
       "    <tr>\n",
       "      <th>112115</th>\n",
       "      <td>00030801_001.png</td>\n",
       "      <td>train</td>\n",
       "      <td>0.0</td>\n",
       "      <td>0.0</td>\n",
       "      <td>0.0</td>\n",
       "      <td>0.0</td>\n",
       "      <td>0.0</td>\n",
       "      <td>1.0</td>\n",
       "      <td>0.0</td>\n",
       "      <td>0.0</td>\n",
       "      <td>0.0</td>\n",
       "      <td>0.0</td>\n",
       "      <td>1.0</td>\n",
       "      <td>0.0</td>\n",
       "      <td>0.0</td>\n",
       "      <td>0.0</td>\n",
       "    </tr>\n",
       "    <tr>\n",
       "      <th>112116</th>\n",
       "      <td>00030802_000.png</td>\n",
       "      <td>val</td>\n",
       "      <td>0.0</td>\n",
       "      <td>0.0</td>\n",
       "      <td>0.0</td>\n",
       "      <td>0.0</td>\n",
       "      <td>0.0</td>\n",
       "      <td>0.0</td>\n",
       "      <td>0.0</td>\n",
       "      <td>0.0</td>\n",
       "      <td>0.0</td>\n",
       "      <td>0.0</td>\n",
       "      <td>0.0</td>\n",
       "      <td>0.0</td>\n",
       "      <td>0.0</td>\n",
       "      <td>0.0</td>\n",
       "    </tr>\n",
       "    <tr>\n",
       "      <th>112117</th>\n",
       "      <td>00030803_000.png</td>\n",
       "      <td>train</td>\n",
       "      <td>0.0</td>\n",
       "      <td>0.0</td>\n",
       "      <td>0.0</td>\n",
       "      <td>0.0</td>\n",
       "      <td>0.0</td>\n",
       "      <td>0.0</td>\n",
       "      <td>0.0</td>\n",
       "      <td>0.0</td>\n",
       "      <td>0.0</td>\n",
       "      <td>0.0</td>\n",
       "      <td>0.0</td>\n",
       "      <td>0.0</td>\n",
       "      <td>0.0</td>\n",
       "      <td>0.0</td>\n",
       "    </tr>\n",
       "    <tr>\n",
       "      <th>112118</th>\n",
       "      <td>00030804_000.png</td>\n",
       "      <td>train</td>\n",
       "      <td>0.0</td>\n",
       "      <td>0.0</td>\n",
       "      <td>0.0</td>\n",
       "      <td>0.0</td>\n",
       "      <td>0.0</td>\n",
       "      <td>0.0</td>\n",
       "      <td>0.0</td>\n",
       "      <td>0.0</td>\n",
       "      <td>0.0</td>\n",
       "      <td>0.0</td>\n",
       "      <td>0.0</td>\n",
       "      <td>0.0</td>\n",
       "      <td>0.0</td>\n",
       "      <td>0.0</td>\n",
       "    </tr>\n",
       "    <tr>\n",
       "      <th>112119</th>\n",
       "      <td>00030805_000.png</td>\n",
       "      <td>train</td>\n",
       "      <td>0.0</td>\n",
       "      <td>0.0</td>\n",
       "      <td>0.0</td>\n",
       "      <td>0.0</td>\n",
       "      <td>0.0</td>\n",
       "      <td>0.0</td>\n",
       "      <td>0.0</td>\n",
       "      <td>0.0</td>\n",
       "      <td>0.0</td>\n",
       "      <td>0.0</td>\n",
       "      <td>0.0</td>\n",
       "      <td>0.0</td>\n",
       "      <td>0.0</td>\n",
       "      <td>0.0</td>\n",
       "    </tr>\n",
       "  </tbody>\n",
       "</table>\n",
       "<p>112120 rows × 16 columns</p>\n",
       "</div>"
      ],
      "text/plain": [
       "             Image Index   fold  Cardiomegaly  Emphysema  Effusion  Hernia  \\\n",
       "0       00000001_000.png  train           1.0        0.0       0.0     0.0   \n",
       "1       00000001_001.png  train           1.0        1.0       0.0     0.0   \n",
       "2       00000001_002.png  train           1.0        0.0       1.0     0.0   \n",
       "3       00000002_000.png  train           0.0        0.0       0.0     0.0   \n",
       "4       00000003_000.png  train           0.0        0.0       0.0     1.0   \n",
       "...                  ...    ...           ...        ...       ...     ...   \n",
       "112115  00030801_001.png  train           0.0        0.0       0.0     0.0   \n",
       "112116  00030802_000.png    val           0.0        0.0       0.0     0.0   \n",
       "112117  00030803_000.png  train           0.0        0.0       0.0     0.0   \n",
       "112118  00030804_000.png  train           0.0        0.0       0.0     0.0   \n",
       "112119  00030805_000.png  train           0.0        0.0       0.0     0.0   \n",
       "\n",
       "        Infiltration  Mass  Nodule  Atelectasis  Pneumothorax  \\\n",
       "0                0.0   0.0     0.0          0.0           0.0   \n",
       "1                0.0   0.0     0.0          0.0           0.0   \n",
       "2                0.0   0.0     0.0          0.0           0.0   \n",
       "3                0.0   0.0     0.0          0.0           0.0   \n",
       "4                0.0   0.0     0.0          0.0           0.0   \n",
       "...              ...   ...     ...          ...           ...   \n",
       "112115           0.0   1.0     0.0          0.0           0.0   \n",
       "112116           0.0   0.0     0.0          0.0           0.0   \n",
       "112117           0.0   0.0     0.0          0.0           0.0   \n",
       "112118           0.0   0.0     0.0          0.0           0.0   \n",
       "112119           0.0   0.0     0.0          0.0           0.0   \n",
       "\n",
       "        Pleural_Thickening  Pneumonia  Fibrosis  Edema  Consolidation  \n",
       "0                      0.0        0.0       0.0    0.0            0.0  \n",
       "1                      0.0        0.0       0.0    0.0            0.0  \n",
       "2                      0.0        0.0       0.0    0.0            0.0  \n",
       "3                      0.0        0.0       0.0    0.0            0.0  \n",
       "4                      0.0        0.0       0.0    0.0            0.0  \n",
       "...                    ...        ...       ...    ...            ...  \n",
       "112115                 0.0        1.0       0.0    0.0            0.0  \n",
       "112116                 0.0        0.0       0.0    0.0            0.0  \n",
       "112117                 0.0        0.0       0.0    0.0            0.0  \n",
       "112118                 0.0        0.0       0.0    0.0            0.0  \n",
       "112119                 0.0        0.0       0.0    0.0            0.0  \n",
       "\n",
       "[112120 rows x 16 columns]"
      ]
     },
     "execution_count": 4,
     "metadata": {},
     "output_type": "execute_result"
    }
   ],
   "source": [
    "data"
   ]
  },
  {
   "cell_type": "code",
   "execution_count": 5,
   "id": "ae015ea6-4179-4f5d-a84c-ee7b3dd215b4",
   "metadata": {
    "tags": []
   },
   "outputs": [],
   "source": [
    "data.drop(columns=['Image Index'], inplace=True)"
   ]
  },
  {
   "cell_type": "code",
   "execution_count": 6,
   "id": "5dcf3444-6f30-4da6-891b-85ca72a0c0b4",
   "metadata": {
    "tags": []
   },
   "outputs": [],
   "source": [
    "data.rename(columns = {\"fold\": \"Class\"}, inplace=True)"
   ]
  },
  {
   "cell_type": "code",
   "execution_count": 7,
   "id": "f0bddd52-25da-4594-a8ae-6e8eab9f0991",
   "metadata": {
    "tags": []
   },
   "outputs": [
    {
     "name": "stdout",
     "output_type": "stream",
     "text": [
      "['train' 'test' 'val']\n"
     ]
    }
   ],
   "source": [
    "clss = data[\"Class\"].unique()\n",
    "print(clss)"
   ]
  },
  {
   "cell_type": "code",
   "execution_count": 8,
   "id": "1fd511ac-8f54-4192-9c1a-f392dbe263b6",
   "metadata": {
    "tags": []
   },
   "outputs": [],
   "source": [
    "trainData = data.sample(frac=0.8, random_state=0)"
   ]
  },
  {
   "cell_type": "code",
   "execution_count": 9,
   "id": "06c9a3cd-a5ba-4b9c-b8d9-9908223755bd",
   "metadata": {
    "tags": []
   },
   "outputs": [],
   "source": [
    "testData = data.drop(trainData.index)"
   ]
  },
  {
   "cell_type": "code",
   "execution_count": 10,
   "id": "ff851de1-4e45-487c-8f3c-bd949797c35e",
   "metadata": {
    "tags": []
   },
   "outputs": [
    {
     "data": {
      "text/plain": [
       "{'Cardiomegaly': {0.0: 0.9749346676015043, 1.0: 0.02506533239849576},\n",
       " 'Emphysema': {0.0: 0.9769902479444197, 1.0: 0.023009752055580344},\n",
       " 'Effusion': {0.0: 0.8827044426030977, 1.0: 0.11729555739690228},\n",
       " 'Hernia': {0.0: 0.9982471795525527, 1.0: 0.001752820447447256},\n",
       " 'Infiltration': {0.0: 0.8224233539422525, 1.0: 0.17757664605774748},\n",
       " 'Mass': {0.0: 0.9490885333673275, 1.0: 0.050911466632672576},\n",
       " 'Nodule': {0.0: 0.9441328319204538, 1.0: 0.05586716807954618},\n",
       " 'Atelectasis': {0.0: 0.8985116960928039, 1.0: 0.10148830390719613},\n",
       " 'Pneumothorax': {0.0: 0.9531996940531583, 1.0: 0.04680030594684174},\n",
       " 'Pleural_Thickening': {0.0: 0.9713174835872267, 1.0: 0.02868251641277328},\n",
       " 'Pneumonia': {0.0: 0.9874434317037415, 1.0: 0.012556568296258525},\n",
       " 'Fibrosis': {0.0: 0.9851806998534005, 1.0: 0.014819300146599528},\n",
       " 'Edema': {0.0: 0.9784403084963987, 1.0: 0.02155969150360125},\n",
       " 'Consolidation': {0.0: 0.9590796099177767, 1.0: 0.040920390082223215}}"
      ]
     },
     "execution_count": 10,
     "metadata": {},
     "output_type": "execute_result"
    }
   ],
   "source": [
    "def probabilities(cls):\n",
    "    n = len(trainData[trainData['Class'] == cls])\n",
    "    d = {}\n",
    "    for key in trainData.keys():\n",
    "        if key != 'Class':\n",
    "            dict = {}\n",
    "            for i in set(trainData[key]):\n",
    "                dict[i] = len(trainData[(trainData['Class'] == cls) & (trainData[key] == i)])/n\n",
    "            d[key] = dict\n",
    "    return d\n",
    "probabilities('train')"
   ]
  },
  {
   "cell_type": "code",
   "execution_count": 11,
   "id": "488a5a96-b7e2-4683-8c59-a95664c28283",
   "metadata": {
    "tags": []
   },
   "outputs": [
    {
     "name": "stdout",
     "output_type": "stream",
     "text": [
      "{'test': {'Cardiomegaly': {0.0: 0.9741062479117942, 1.0: 0.025893752088205813}, 'Emphysema': {0.0: 0.9775030627018599, 1.0: 0.022496937298140104}, 'Effusion': {0.0: 0.8780487804878049, 1.0: 0.12195121951219512}, 'Hernia': {0.0: 0.9982180643724246, 1.0: 0.0017819356275754537}, 'Infiltration': {0.0: 0.8229201470096893, 1.0: 0.17707985299031073}, 'Mass': {0.0: 0.9498830604744404, 1.0: 0.05011693952555964}, 'Nodule': {0.0: 0.9401381000111371, 1.0: 0.059861899988862904}, 'Atelectasis': {0.0: 0.8919144670898764, 1.0: 0.10808553291012363}, 'Pneumothorax': {0.0: 0.9510524557300367, 1.0: 0.04894754426996325}, 'Pleural_Thickening': {0.0: 0.9678137877269184, 1.0: 0.03218621227308163}, 'Pneumonia': {0.0: 0.9891970152578238, 1.0: 0.010802984742176188}, 'Fibrosis': {0.0: 0.9842966922819913, 1.0: 0.015703307718008687}, 'Edema': {0.0: 0.981233990422096, 1.0: 0.018766009577904}, 'Consolidation': {0.0: 0.9563425771244014, 1.0: 0.043657422875598616}}, 'val': {'Cardiomegaly': {0.0: 0.9797372522823424, 1.0: 0.02026274771765754}, 'Emphysema': {0.0: 0.9811845914050323, 1.0: 0.018815408594967713}, 'Effusion': {0.0: 0.8843242039634825, 1.0: 0.11567579603651748}, 'Hernia': {0.0: 0.9965486528612781, 1.0: 0.003451347138721888}, 'Infiltration': {0.0: 0.8188599421064351, 1.0: 0.1811400578935649}, 'Mass': {0.0: 0.9452237808951236, 1.0: 0.05477621910487642}, 'Nodule': {0.0: 0.9458917835671342, 1.0: 0.05410821643286573}, 'Atelectasis': {0.0: 0.8991315965263861, 1.0: 0.1008684034736139}, 'Pneumothorax': {0.0: 0.9554664885326208, 1.0: 0.0445335114673792}, 'Pleural_Thickening': {0.0: 0.9672678690714763, 1.0: 0.032732130928523714}, 'Pneumonia': {0.0: 0.9885326207971499, 1.0: 0.011467379202850144}, 'Fibrosis': {0.0: 0.9851926074370965, 1.0: 0.014807392562903586}, 'Edema': {0.0: 0.981852594077043, 1.0: 0.018147405922957025}, 'Consolidation': {0.0: 0.9600311734580271, 1.0: 0.039968826541972834}}, 'train': {'Cardiomegaly': {0.0: 0.9749346676015043, 1.0: 0.02506533239849576}, 'Emphysema': {0.0: 0.9769902479444197, 1.0: 0.023009752055580344}, 'Effusion': {0.0: 0.8827044426030977, 1.0: 0.11729555739690228}, 'Hernia': {0.0: 0.9982471795525527, 1.0: 0.001752820447447256}, 'Infiltration': {0.0: 0.8224233539422525, 1.0: 0.17757664605774748}, 'Mass': {0.0: 0.9490885333673275, 1.0: 0.050911466632672576}, 'Nodule': {0.0: 0.9441328319204538, 1.0: 0.05586716807954618}, 'Atelectasis': {0.0: 0.8985116960928039, 1.0: 0.10148830390719613}, 'Pneumothorax': {0.0: 0.9531996940531583, 1.0: 0.04680030594684174}, 'Pleural_Thickening': {0.0: 0.9713174835872267, 1.0: 0.02868251641277328}, 'Pneumonia': {0.0: 0.9874434317037415, 1.0: 0.012556568296258525}, 'Fibrosis': {0.0: 0.9851806998534005, 1.0: 0.014819300146599528}, 'Edema': {0.0: 0.9784403084963987, 1.0: 0.02155969150360125}, 'Consolidation': {0.0: 0.9590796099177767, 1.0: 0.040920390082223215}}}\n"
     ]
    }
   ],
   "source": [
    "prob = {}\n",
    "for cls in set(data['Class']):\n",
    "    prob[cls] = probabilities(cls)\n",
    "print(prob)"
   ]
  },
  {
   "cell_type": "code",
   "execution_count": 12,
   "id": "906ef38a-ea93-4261-82f8-900a3693e89e",
   "metadata": {
    "tags": []
   },
   "outputs": [],
   "source": [
    "def NaiveBayesClassifier(X):\n",
    "    predcls = None\n",
    "    maxval = 0\n",
    "    for cls in prob.keys():\n",
    "        val = 1\n",
    "        for k in X.keys():\n",
    "            temp = prob[cls].get(k,0)\n",
    "            val *= temp.get(X[k],0)\n",
    "        if val > maxval:\n",
    "            maxval = val\n",
    "            predcls = cls\n",
    "    return predcls   "
   ]
  },
  {
   "cell_type": "code",
   "execution_count": 13,
   "id": "2e711441-647f-47da-89be-99f5d0cca0bf",
   "metadata": {
    "tags": []
   },
   "outputs": [],
   "source": [
    "def confusion():\n",
    "    classes = {}\n",
    "    clss = trainData[\"Class\"].unique()\n",
    "    i = 0\n",
    "    for clas in clss:\n",
    "        classes[clas] = i\n",
    "        i += 1\n",
    "    n = len(classes)\n",
    "    confmat = np.zeros(n*n)\n",
    "    confmat = confmat.reshape(n,n)\n",
    "    for _, d in testData.iterrows():\n",
    "        y = d['Class']\n",
    "        x = d.drop('Class')\n",
    "        predy = NaiveBayesClassifier(x)\n",
    "        confmat[classes[predy]][classes[y]] += 1\n",
    "    return confmat"
   ]
  },
  {
   "cell_type": "code",
   "execution_count": 14,
   "id": "0bf09104-606c-4c10-b10b-15905e5f9c14",
   "metadata": {
    "tags": []
   },
   "outputs": [],
   "source": [
    "def accuracy(mat):\n",
    "    n = len(mat)\n",
    "    num = 0\n",
    "    den = 0\n",
    "    for i in range(n):\n",
    "        num += mat[i][i]\n",
    "        den += sum(mat[i])\n",
    "    return num/den"
   ]
  },
  {
   "cell_type": "code",
   "execution_count": 15,
   "id": "8e7613ce-48e6-48be-8e23-9ec9f78de79a",
   "metadata": {
    "tags": []
   },
   "outputs": [],
   "source": [
    "def precision(mat, key):\n",
    "    n = len(mat)\n",
    "    num = mat[key][key]\n",
    "    den = 0\n",
    "    for i in range(n):\n",
    "        den += mat[i][key]\n",
    "    return num/den"
   ]
  },
  {
   "cell_type": "code",
   "execution_count": 16,
   "id": "da7cd26c-8983-48fd-bf2f-68300993cd58",
   "metadata": {
    "tags": []
   },
   "outputs": [],
   "source": [
    "def recall(mat, key):\n",
    "    n = len(mat)\n",
    "    num = mat[key][key]\n",
    "    den = 0\n",
    "    for i in range(n):\n",
    "        den += mat[key][i]\n",
    "    return num/den"
   ]
  },
  {
   "cell_type": "code",
   "execution_count": 17,
   "id": "e263f393-ff97-4e4a-8931-04fec065f67d",
   "metadata": {
    "tags": []
   },
   "outputs": [],
   "source": [
    "def F1Score(p,r):\n",
    "    return (2*(p*r))/(p + r)"
   ]
  },
  {
   "cell_type": "code",
   "execution_count": 18,
   "id": "6fc2be8f-be98-4932-b7d7-264672c70af5",
   "metadata": {
    "tags": []
   },
   "outputs": [
    {
     "name": "stdout",
     "output_type": "stream",
     "text": [
      "[[  629.   173.    79.]\n",
      " [ 4441.  1265.   607.]\n",
      " [10642.  3037.  1551.]]\n",
      "0.1536300392436675 0.04003309572301426 0.713961407491487 0.07581510275417344\n"
     ]
    }
   ],
   "source": [
    "mat = confusion() \n",
    "print(mat)\n",
    "acc = accuracy(mat)\n",
    "pre = precision(mat, 0)\n",
    "rec = recall(mat, 0)\n",
    "fscore = F1Score(pre, rec)\n",
    "print(acc, pre, rec, fscore)"
   ]
  },
  {
   "cell_type": "code",
   "execution_count": null,
   "id": "723b1dd3-0591-4ee3-be61-0629022e3326",
   "metadata": {},
   "outputs": [],
   "source": []
  }
 ],
 "metadata": {
  "kernelspec": {
   "display_name": "Python 3",
   "language": "python",
   "name": "python3"
  },
  "language_info": {
   "codemirror_mode": {
    "name": "ipython",
    "version": 3
   },
   "file_extension": ".py",
   "mimetype": "text/x-python",
   "name": "python",
   "nbconvert_exporter": "python",
   "pygments_lexer": "ipython3",
   "version": "3.10.0"
  }
 },
 "nbformat": 4,
 "nbformat_minor": 5
}
