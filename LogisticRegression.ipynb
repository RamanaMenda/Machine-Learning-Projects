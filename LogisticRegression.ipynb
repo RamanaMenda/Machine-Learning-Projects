{
 "cells": [
  {
   "cell_type": "code",
   "execution_count": 1,
   "id": "8bf8127d-c75a-4dcf-8538-befbdcd005b0",
   "metadata": {},
   "outputs": [],
   "source": [
    "import pandas as pd\n",
    "import numpy as np\n",
    "import matplotlib.pyplot as plt"
   ]
  },
  {
   "cell_type": "code",
   "execution_count": 2,
   "id": "8a98b5a5-8e24-4f61-aaef-f2df3fbe3816",
   "metadata": {
    "tags": []
   },
   "outputs": [],
   "source": [
    "data = pd.read_csv('datasets/Classification/KNNDataset.csv')"
   ]
  },
  {
   "cell_type": "code",
   "execution_count": 3,
   "id": "17a058f2-19f7-4795-b7ef-4d6ede0ac126",
   "metadata": {},
   "outputs": [],
   "source": [
    "data.rename(columns = {\"diagnosis\": \"Class\"}, inplace=True)\n",
    "data.dropna(axis=1, inplace=True)"
   ]
  },
  {
   "cell_type": "code",
   "execution_count": 4,
   "id": "95c1a76c-451d-4cb5-833b-cbbd6b95a165",
   "metadata": {
    "tags": []
   },
   "outputs": [
    {
     "name": "stdout",
     "output_type": "stream",
     "text": [
      "['M' 'B']\n"
     ]
    }
   ],
   "source": [
    "clss = data[\"Class\"].unique()\n",
    "print(clss)"
   ]
  },
  {
   "cell_type": "code",
   "execution_count": 5,
   "id": "644a3463-1427-4bf6-ac7b-909e9bfbf553",
   "metadata": {
    "tags": []
   },
   "outputs": [],
   "source": [
    "data.drop(columns = ['id'], inplace=True)"
   ]
  },
  {
   "cell_type": "code",
   "execution_count": 6,
   "id": "6be5ce3f-a89f-4bc7-a317-92e9c40c9701",
   "metadata": {
    "tags": []
   },
   "outputs": [
    {
     "data": {
      "text/plain": [
       "{'Class': {'M': 0, 'B': 1}}"
      ]
     },
     "execution_count": 6,
     "metadata": {},
     "output_type": "execute_result"
    }
   ],
   "source": [
    "cols = {}\n",
    "cols['Class'] = {val : index for index, val in enumerate(data['Class'].unique())}\n",
    "data['Class'] = [cols['Class'][val] for val in data['Class']]\n",
    "cols"
   ]
  },
  {
   "cell_type": "code",
   "execution_count": 7,
   "id": "3b97b2ef-a946-4cf6-9318-e33dc18b47ba",
   "metadata": {
    "tags": []
   },
   "outputs": [
    {
     "data": {
      "text/html": [
       "<div>\n",
       "<style scoped>\n",
       "    .dataframe tbody tr th:only-of-type {\n",
       "        vertical-align: middle;\n",
       "    }\n",
       "\n",
       "    .dataframe tbody tr th {\n",
       "        vertical-align: top;\n",
       "    }\n",
       "\n",
       "    .dataframe thead th {\n",
       "        text-align: right;\n",
       "    }\n",
       "</style>\n",
       "<table border=\"1\" class=\"dataframe\">\n",
       "  <thead>\n",
       "    <tr style=\"text-align: right;\">\n",
       "      <th></th>\n",
       "      <th>Class</th>\n",
       "      <th>radius_mean</th>\n",
       "      <th>texture_mean</th>\n",
       "      <th>perimeter_mean</th>\n",
       "      <th>area_mean</th>\n",
       "      <th>smoothness_mean</th>\n",
       "      <th>compactness_mean</th>\n",
       "      <th>concavity_mean</th>\n",
       "      <th>concave points_mean</th>\n",
       "      <th>symmetry_mean</th>\n",
       "      <th>...</th>\n",
       "      <th>radius_worst</th>\n",
       "      <th>texture_worst</th>\n",
       "      <th>perimeter_worst</th>\n",
       "      <th>area_worst</th>\n",
       "      <th>smoothness_worst</th>\n",
       "      <th>compactness_worst</th>\n",
       "      <th>concavity_worst</th>\n",
       "      <th>concave points_worst</th>\n",
       "      <th>symmetry_worst</th>\n",
       "      <th>fractal_dimension_worst</th>\n",
       "    </tr>\n",
       "  </thead>\n",
       "  <tbody>\n",
       "    <tr>\n",
       "      <th>0</th>\n",
       "      <td>0</td>\n",
       "      <td>17.99</td>\n",
       "      <td>10.38</td>\n",
       "      <td>122.80</td>\n",
       "      <td>1001.0</td>\n",
       "      <td>0.11840</td>\n",
       "      <td>0.27760</td>\n",
       "      <td>0.30010</td>\n",
       "      <td>0.14710</td>\n",
       "      <td>0.2419</td>\n",
       "      <td>...</td>\n",
       "      <td>25.380</td>\n",
       "      <td>17.33</td>\n",
       "      <td>184.60</td>\n",
       "      <td>2019.0</td>\n",
       "      <td>0.16220</td>\n",
       "      <td>0.66560</td>\n",
       "      <td>0.7119</td>\n",
       "      <td>0.2654</td>\n",
       "      <td>0.4601</td>\n",
       "      <td>0.11890</td>\n",
       "    </tr>\n",
       "    <tr>\n",
       "      <th>1</th>\n",
       "      <td>0</td>\n",
       "      <td>20.57</td>\n",
       "      <td>17.77</td>\n",
       "      <td>132.90</td>\n",
       "      <td>1326.0</td>\n",
       "      <td>0.08474</td>\n",
       "      <td>0.07864</td>\n",
       "      <td>0.08690</td>\n",
       "      <td>0.07017</td>\n",
       "      <td>0.1812</td>\n",
       "      <td>...</td>\n",
       "      <td>24.990</td>\n",
       "      <td>23.41</td>\n",
       "      <td>158.80</td>\n",
       "      <td>1956.0</td>\n",
       "      <td>0.12380</td>\n",
       "      <td>0.18660</td>\n",
       "      <td>0.2416</td>\n",
       "      <td>0.1860</td>\n",
       "      <td>0.2750</td>\n",
       "      <td>0.08902</td>\n",
       "    </tr>\n",
       "    <tr>\n",
       "      <th>2</th>\n",
       "      <td>0</td>\n",
       "      <td>19.69</td>\n",
       "      <td>21.25</td>\n",
       "      <td>130.00</td>\n",
       "      <td>1203.0</td>\n",
       "      <td>0.10960</td>\n",
       "      <td>0.15990</td>\n",
       "      <td>0.19740</td>\n",
       "      <td>0.12790</td>\n",
       "      <td>0.2069</td>\n",
       "      <td>...</td>\n",
       "      <td>23.570</td>\n",
       "      <td>25.53</td>\n",
       "      <td>152.50</td>\n",
       "      <td>1709.0</td>\n",
       "      <td>0.14440</td>\n",
       "      <td>0.42450</td>\n",
       "      <td>0.4504</td>\n",
       "      <td>0.2430</td>\n",
       "      <td>0.3613</td>\n",
       "      <td>0.08758</td>\n",
       "    </tr>\n",
       "    <tr>\n",
       "      <th>3</th>\n",
       "      <td>0</td>\n",
       "      <td>11.42</td>\n",
       "      <td>20.38</td>\n",
       "      <td>77.58</td>\n",
       "      <td>386.1</td>\n",
       "      <td>0.14250</td>\n",
       "      <td>0.28390</td>\n",
       "      <td>0.24140</td>\n",
       "      <td>0.10520</td>\n",
       "      <td>0.2597</td>\n",
       "      <td>...</td>\n",
       "      <td>14.910</td>\n",
       "      <td>26.50</td>\n",
       "      <td>98.87</td>\n",
       "      <td>567.7</td>\n",
       "      <td>0.20980</td>\n",
       "      <td>0.86630</td>\n",
       "      <td>0.6869</td>\n",
       "      <td>0.2575</td>\n",
       "      <td>0.6638</td>\n",
       "      <td>0.17300</td>\n",
       "    </tr>\n",
       "    <tr>\n",
       "      <th>4</th>\n",
       "      <td>0</td>\n",
       "      <td>20.29</td>\n",
       "      <td>14.34</td>\n",
       "      <td>135.10</td>\n",
       "      <td>1297.0</td>\n",
       "      <td>0.10030</td>\n",
       "      <td>0.13280</td>\n",
       "      <td>0.19800</td>\n",
       "      <td>0.10430</td>\n",
       "      <td>0.1809</td>\n",
       "      <td>...</td>\n",
       "      <td>22.540</td>\n",
       "      <td>16.67</td>\n",
       "      <td>152.20</td>\n",
       "      <td>1575.0</td>\n",
       "      <td>0.13740</td>\n",
       "      <td>0.20500</td>\n",
       "      <td>0.4000</td>\n",
       "      <td>0.1625</td>\n",
       "      <td>0.2364</td>\n",
       "      <td>0.07678</td>\n",
       "    </tr>\n",
       "    <tr>\n",
       "      <th>...</th>\n",
       "      <td>...</td>\n",
       "      <td>...</td>\n",
       "      <td>...</td>\n",
       "      <td>...</td>\n",
       "      <td>...</td>\n",
       "      <td>...</td>\n",
       "      <td>...</td>\n",
       "      <td>...</td>\n",
       "      <td>...</td>\n",
       "      <td>...</td>\n",
       "      <td>...</td>\n",
       "      <td>...</td>\n",
       "      <td>...</td>\n",
       "      <td>...</td>\n",
       "      <td>...</td>\n",
       "      <td>...</td>\n",
       "      <td>...</td>\n",
       "      <td>...</td>\n",
       "      <td>...</td>\n",
       "      <td>...</td>\n",
       "      <td>...</td>\n",
       "    </tr>\n",
       "    <tr>\n",
       "      <th>564</th>\n",
       "      <td>0</td>\n",
       "      <td>21.56</td>\n",
       "      <td>22.39</td>\n",
       "      <td>142.00</td>\n",
       "      <td>1479.0</td>\n",
       "      <td>0.11100</td>\n",
       "      <td>0.11590</td>\n",
       "      <td>0.24390</td>\n",
       "      <td>0.13890</td>\n",
       "      <td>0.1726</td>\n",
       "      <td>...</td>\n",
       "      <td>25.450</td>\n",
       "      <td>26.40</td>\n",
       "      <td>166.10</td>\n",
       "      <td>2027.0</td>\n",
       "      <td>0.14100</td>\n",
       "      <td>0.21130</td>\n",
       "      <td>0.4107</td>\n",
       "      <td>0.2216</td>\n",
       "      <td>0.2060</td>\n",
       "      <td>0.07115</td>\n",
       "    </tr>\n",
       "    <tr>\n",
       "      <th>565</th>\n",
       "      <td>0</td>\n",
       "      <td>20.13</td>\n",
       "      <td>28.25</td>\n",
       "      <td>131.20</td>\n",
       "      <td>1261.0</td>\n",
       "      <td>0.09780</td>\n",
       "      <td>0.10340</td>\n",
       "      <td>0.14400</td>\n",
       "      <td>0.09791</td>\n",
       "      <td>0.1752</td>\n",
       "      <td>...</td>\n",
       "      <td>23.690</td>\n",
       "      <td>38.25</td>\n",
       "      <td>155.00</td>\n",
       "      <td>1731.0</td>\n",
       "      <td>0.11660</td>\n",
       "      <td>0.19220</td>\n",
       "      <td>0.3215</td>\n",
       "      <td>0.1628</td>\n",
       "      <td>0.2572</td>\n",
       "      <td>0.06637</td>\n",
       "    </tr>\n",
       "    <tr>\n",
       "      <th>566</th>\n",
       "      <td>0</td>\n",
       "      <td>16.60</td>\n",
       "      <td>28.08</td>\n",
       "      <td>108.30</td>\n",
       "      <td>858.1</td>\n",
       "      <td>0.08455</td>\n",
       "      <td>0.10230</td>\n",
       "      <td>0.09251</td>\n",
       "      <td>0.05302</td>\n",
       "      <td>0.1590</td>\n",
       "      <td>...</td>\n",
       "      <td>18.980</td>\n",
       "      <td>34.12</td>\n",
       "      <td>126.70</td>\n",
       "      <td>1124.0</td>\n",
       "      <td>0.11390</td>\n",
       "      <td>0.30940</td>\n",
       "      <td>0.3403</td>\n",
       "      <td>0.1418</td>\n",
       "      <td>0.2218</td>\n",
       "      <td>0.07820</td>\n",
       "    </tr>\n",
       "    <tr>\n",
       "      <th>567</th>\n",
       "      <td>0</td>\n",
       "      <td>20.60</td>\n",
       "      <td>29.33</td>\n",
       "      <td>140.10</td>\n",
       "      <td>1265.0</td>\n",
       "      <td>0.11780</td>\n",
       "      <td>0.27700</td>\n",
       "      <td>0.35140</td>\n",
       "      <td>0.15200</td>\n",
       "      <td>0.2397</td>\n",
       "      <td>...</td>\n",
       "      <td>25.740</td>\n",
       "      <td>39.42</td>\n",
       "      <td>184.60</td>\n",
       "      <td>1821.0</td>\n",
       "      <td>0.16500</td>\n",
       "      <td>0.86810</td>\n",
       "      <td>0.9387</td>\n",
       "      <td>0.2650</td>\n",
       "      <td>0.4087</td>\n",
       "      <td>0.12400</td>\n",
       "    </tr>\n",
       "    <tr>\n",
       "      <th>568</th>\n",
       "      <td>1</td>\n",
       "      <td>7.76</td>\n",
       "      <td>24.54</td>\n",
       "      <td>47.92</td>\n",
       "      <td>181.0</td>\n",
       "      <td>0.05263</td>\n",
       "      <td>0.04362</td>\n",
       "      <td>0.00000</td>\n",
       "      <td>0.00000</td>\n",
       "      <td>0.1587</td>\n",
       "      <td>...</td>\n",
       "      <td>9.456</td>\n",
       "      <td>30.37</td>\n",
       "      <td>59.16</td>\n",
       "      <td>268.6</td>\n",
       "      <td>0.08996</td>\n",
       "      <td>0.06444</td>\n",
       "      <td>0.0000</td>\n",
       "      <td>0.0000</td>\n",
       "      <td>0.2871</td>\n",
       "      <td>0.07039</td>\n",
       "    </tr>\n",
       "  </tbody>\n",
       "</table>\n",
       "<p>569 rows × 31 columns</p>\n",
       "</div>"
      ],
      "text/plain": [
       "     Class  radius_mean  texture_mean  perimeter_mean  area_mean  \\\n",
       "0        0        17.99         10.38          122.80     1001.0   \n",
       "1        0        20.57         17.77          132.90     1326.0   \n",
       "2        0        19.69         21.25          130.00     1203.0   \n",
       "3        0        11.42         20.38           77.58      386.1   \n",
       "4        0        20.29         14.34          135.10     1297.0   \n",
       "..     ...          ...           ...             ...        ...   \n",
       "564      0        21.56         22.39          142.00     1479.0   \n",
       "565      0        20.13         28.25          131.20     1261.0   \n",
       "566      0        16.60         28.08          108.30      858.1   \n",
       "567      0        20.60         29.33          140.10     1265.0   \n",
       "568      1         7.76         24.54           47.92      181.0   \n",
       "\n",
       "     smoothness_mean  compactness_mean  concavity_mean  concave points_mean  \\\n",
       "0            0.11840           0.27760         0.30010              0.14710   \n",
       "1            0.08474           0.07864         0.08690              0.07017   \n",
       "2            0.10960           0.15990         0.19740              0.12790   \n",
       "3            0.14250           0.28390         0.24140              0.10520   \n",
       "4            0.10030           0.13280         0.19800              0.10430   \n",
       "..               ...               ...             ...                  ...   \n",
       "564          0.11100           0.11590         0.24390              0.13890   \n",
       "565          0.09780           0.10340         0.14400              0.09791   \n",
       "566          0.08455           0.10230         0.09251              0.05302   \n",
       "567          0.11780           0.27700         0.35140              0.15200   \n",
       "568          0.05263           0.04362         0.00000              0.00000   \n",
       "\n",
       "     symmetry_mean  ...  radius_worst  texture_worst  perimeter_worst  \\\n",
       "0           0.2419  ...        25.380          17.33           184.60   \n",
       "1           0.1812  ...        24.990          23.41           158.80   \n",
       "2           0.2069  ...        23.570          25.53           152.50   \n",
       "3           0.2597  ...        14.910          26.50            98.87   \n",
       "4           0.1809  ...        22.540          16.67           152.20   \n",
       "..             ...  ...           ...            ...              ...   \n",
       "564         0.1726  ...        25.450          26.40           166.10   \n",
       "565         0.1752  ...        23.690          38.25           155.00   \n",
       "566         0.1590  ...        18.980          34.12           126.70   \n",
       "567         0.2397  ...        25.740          39.42           184.60   \n",
       "568         0.1587  ...         9.456          30.37            59.16   \n",
       "\n",
       "     area_worst  smoothness_worst  compactness_worst  concavity_worst  \\\n",
       "0        2019.0           0.16220            0.66560           0.7119   \n",
       "1        1956.0           0.12380            0.18660           0.2416   \n",
       "2        1709.0           0.14440            0.42450           0.4504   \n",
       "3         567.7           0.20980            0.86630           0.6869   \n",
       "4        1575.0           0.13740            0.20500           0.4000   \n",
       "..          ...               ...                ...              ...   \n",
       "564      2027.0           0.14100            0.21130           0.4107   \n",
       "565      1731.0           0.11660            0.19220           0.3215   \n",
       "566      1124.0           0.11390            0.30940           0.3403   \n",
       "567      1821.0           0.16500            0.86810           0.9387   \n",
       "568       268.6           0.08996            0.06444           0.0000   \n",
       "\n",
       "     concave points_worst  symmetry_worst  fractal_dimension_worst  \n",
       "0                  0.2654          0.4601                  0.11890  \n",
       "1                  0.1860          0.2750                  0.08902  \n",
       "2                  0.2430          0.3613                  0.08758  \n",
       "3                  0.2575          0.6638                  0.17300  \n",
       "4                  0.1625          0.2364                  0.07678  \n",
       "..                    ...             ...                      ...  \n",
       "564                0.2216          0.2060                  0.07115  \n",
       "565                0.1628          0.2572                  0.06637  \n",
       "566                0.1418          0.2218                  0.07820  \n",
       "567                0.2650          0.4087                  0.12400  \n",
       "568                0.0000          0.2871                  0.07039  \n",
       "\n",
       "[569 rows x 31 columns]"
      ]
     },
     "execution_count": 7,
     "metadata": {},
     "output_type": "execute_result"
    }
   ],
   "source": [
    "data"
   ]
  },
  {
   "cell_type": "code",
   "execution_count": 8,
   "id": "c785b85f-2b5b-49eb-9e1b-e9f25270f81d",
   "metadata": {
    "tags": []
   },
   "outputs": [
    {
     "data": {
      "text/plain": [
       "Index(['Class', 'radius_mean', 'texture_mean', 'perimeter_mean', 'area_mean',\n",
       "       'smoothness_mean', 'compactness_mean', 'concavity_mean',\n",
       "       'concave points_mean', 'symmetry_mean', 'fractal_dimension_mean',\n",
       "       'radius_se', 'texture_se', 'perimeter_se', 'area_se', 'smoothness_se',\n",
       "       'compactness_se', 'concavity_se', 'concave points_se', 'symmetry_se',\n",
       "       'fractal_dimension_se', 'radius_worst', 'texture_worst',\n",
       "       'perimeter_worst', 'area_worst', 'smoothness_worst',\n",
       "       'compactness_worst', 'concavity_worst', 'concave points_worst',\n",
       "       'symmetry_worst', 'fractal_dimension_worst'],\n",
       "      dtype='object')"
      ]
     },
     "execution_count": 8,
     "metadata": {},
     "output_type": "execute_result"
    }
   ],
   "source": [
    "data.columns"
   ]
  },
  {
   "cell_type": "code",
   "execution_count": 9,
   "id": "35a9d076-5e50-4342-8ea7-1be93032ecc6",
   "metadata": {
    "tags": []
   },
   "outputs": [],
   "source": [
    "trainData = data.sample(frac=0.8, random_state=0)"
   ]
  },
  {
   "cell_type": "code",
   "execution_count": 10,
   "id": "6c758744-d1bf-4113-9200-70dbaf564889",
   "metadata": {
    "tags": []
   },
   "outputs": [],
   "source": [
    "testData = data.drop(trainData.index)"
   ]
  },
  {
   "cell_type": "code",
   "execution_count": 11,
   "id": "e63df850-bc70-4fcf-b9ac-230d30cb37e7",
   "metadata": {
    "tags": []
   },
   "outputs": [],
   "source": [
    "def costFunction(x,y,w):\n",
    "    m = len(x)\n",
    "    mat = np.matmul(x,w)\n",
    "    mat = np.subtract(mat,y)\n",
    "    # print(mat)\n",
    "    J = 1/(1 + np.exp((-1)*np.clip(mat, -500, 500))).astype(np.longdouble)\n",
    "    return sum(J)"
   ]
  },
  {
   "cell_type": "code",
   "execution_count": 12,
   "id": "534544e9-bf06-4af4-b016-91acc411840b",
   "metadata": {
    "tags": []
   },
   "outputs": [],
   "source": [
    "def gradient(x,y,w,b,learning_rate,iterations=10000,stoping_threshold=0.000000000001):\n",
    "    x = x.to_numpy()\n",
    "    y = y.to_numpy()\n",
    "    y = y.reshape(len(y), 1)\n",
    "    prev_cost = None\n",
    "    bol = True\n",
    "    for j in range(iterations):\n",
    "        crnt_cost = costFunction(x,y,w)\n",
    "        if prev_cost is not None and abs(prev_cost - crnt_cost) <= stoping_threshold:\n",
    "            break\n",
    "        m = len(x)\n",
    "        prev_cost = crnt_cost\n",
    "        mat = np.matmul(x,w)\n",
    "        u = 1/(1 + np.exp((-1)*np.clip(mat, -500, 500))).astype(np.longdouble)\n",
    "        u = [1 if i >= 0.5 else 0 for i in u]\n",
    "        u = np.array(u)\n",
    "        u = u.reshape(len(u), 1)\n",
    "        derivative = np.subtract(u, y)\n",
    "        n = len(w) \n",
    "        for i in range(n):\n",
    "            derv = np.multiply(derivative,x[:,i].reshape(m,1))\n",
    "            w[i,0] = w[i,0] - learning_rate*sum(derv)\n",
    "        b = b - learning_rate*sum(derivative)\n",
    "    print(j)\n",
    "    return w, b"
   ]
  },
  {
   "cell_type": "code",
   "execution_count": 13,
   "id": "89d5ff44-6cca-4ff0-b6c1-3af7f34fdeef",
   "metadata": {
    "tags": []
   },
   "outputs": [],
   "source": [
    "y = trainData['Class']"
   ]
  },
  {
   "cell_type": "code",
   "execution_count": 14,
   "id": "452cc82b-61a3-4d9a-8505-deb80ccf8939",
   "metadata": {
    "tags": []
   },
   "outputs": [],
   "source": [
    "x = trainData.drop(columns = ['Class'])"
   ]
  },
  {
   "cell_type": "code",
   "execution_count": 15,
   "id": "d57cea0a-f7da-4bad-953b-b66f0aa67567",
   "metadata": {
    "tags": []
   },
   "outputs": [],
   "source": [
    "w = np.ones(len(x.columns))\n",
    "w = w.reshape(len(x.columns),1)"
   ]
  },
  {
   "cell_type": "code",
   "execution_count": 16,
   "id": "178661f5-503d-485b-9f5c-11b906424370",
   "metadata": {
    "tags": []
   },
   "outputs": [
    {
     "name": "stdout",
     "output_type": "stream",
     "text": [
      "9999\n"
     ]
    }
   ],
   "source": [
    "b, b0 = gradient(x,y,w,1,0.00001)"
   ]
  },
  {
   "cell_type": "code",
   "execution_count": 17,
   "id": "ba2d3639-d5f1-4011-8d5f-ff82c0c5e43a",
   "metadata": {
    "tags": []
   },
   "outputs": [
    {
     "name": "stdout",
     "output_type": "stream",
     "text": [
      "[[ 3.67858645]\n",
      " [-1.8570587 ]\n",
      " [12.685167  ]\n",
      " [ 1.820613  ]\n",
      " [ 0.99812143]\n",
      " [ 0.86905092]\n",
      " [ 0.78879916]\n",
      " [ 0.92167091]\n",
      " [ 0.99598802]\n",
      " [ 1.00580403]\n",
      " [ 1.00730536]\n",
      " [ 0.95960119]\n",
      " [ 0.34404608]\n",
      " [-6.32820859]\n",
      " [ 0.99716677]\n",
      " [ 0.96187759]\n",
      " [ 0.94780601]\n",
      " [ 0.98912342]\n",
      " [ 0.99022497]\n",
      " [ 0.99727459]\n",
      " [ 3.79678264]\n",
      " [-4.0382662 ]\n",
      " [ 8.2338532 ]\n",
      " [-3.461905  ]\n",
      " [ 0.97662237]\n",
      " [ 0.49706528]\n",
      " [ 0.36117622]\n",
      " [ 0.84578841]\n",
      " [ 0.89631528]\n",
      " [ 0.96885182]] [1.35664]\n"
     ]
    }
   ],
   "source": [
    "print(b, b0)"
   ]
  },
  {
   "cell_type": "code",
   "execution_count": 18,
   "id": "a25bc70e-8d7b-4ec9-9a57-632748849b91",
   "metadata": {
    "tags": []
   },
   "outputs": [],
   "source": [
    "yTest = testData['Class']"
   ]
  },
  {
   "cell_type": "code",
   "execution_count": 19,
   "id": "f8bb75f6-85ad-4bd6-8964-6556cb200744",
   "metadata": {
    "tags": []
   },
   "outputs": [],
   "source": [
    "xTest = testData.drop(columns = ['Class'])"
   ]
  },
  {
   "cell_type": "code",
   "execution_count": 20,
   "id": "dd507674-cdd7-4611-ab02-bcce4a79a3dc",
   "metadata": {
    "tags": []
   },
   "outputs": [],
   "source": [
    "b = b.ravel()"
   ]
  },
  {
   "cell_type": "code",
   "execution_count": 21,
   "id": "e73b2ebb-4b2b-4315-9b4b-5f0a4f79157c",
   "metadata": {
    "tags": []
   },
   "outputs": [],
   "source": [
    "yOutput = []\n",
    "b = b.ravel()\n",
    "for d in xTest.iterrows():\n",
    "    out = sum(np.multiply(d[1].to_numpy(), b)) + b0[0]\n",
    "    out = 1/(1 + np.exp((-1)*np.clip(out, -500, 500)))\n",
    "    if out >= 0.5:\n",
    "        out = 1\n",
    "    else:\n",
    "        out = 0\n",
    "    yOutput.append((out, yTest[d[0]]))"
   ]
  },
  {
   "cell_type": "code",
   "execution_count": 22,
   "id": "143f28c6-c738-4f39-a643-900325ade65b",
   "metadata": {
    "tags": []
   },
   "outputs": [],
   "source": [
    "def confusion():\n",
    "    confmat = np.array([0,0,0,0])\n",
    "    confmat = confmat.reshape(2,2)\n",
    "    for _, d in testData.iterrows():\n",
    "        y = d['Class']\n",
    "        x = d.drop('Class')\n",
    "        out = sum(np.multiply(x,b) + b0[0])\n",
    "        predy = 1/(1 + np.exp((-1)*np.clip(out, -500, 500)))\n",
    "        if predy >= 0.5:\n",
    "            predy = 1\n",
    "        else:\n",
    "            predy = 0\n",
    "        if y == predy:\n",
    "            if y == 0:\n",
    "                confmat[0][0] += 1\n",
    "            else:\n",
    "                confmat[1][1] += 1\n",
    "        else:\n",
    "            if y == 0:\n",
    "                confmat[1][0] += 1\n",
    "            else:\n",
    "                confmat[0][1] += 1\n",
    "    return confmat"
   ]
  },
  {
   "cell_type": "code",
   "execution_count": 23,
   "id": "1ff88305-9bd8-4edb-b8f5-6826c13cf9d2",
   "metadata": {
    "tags": []
   },
   "outputs": [
    {
     "data": {
      "text/plain": [
       "array([[33,  0],\n",
       "       [11, 70]])"
      ]
     },
     "execution_count": 23,
     "metadata": {},
     "output_type": "execute_result"
    }
   ],
   "source": [
    "confusion()"
   ]
  },
  {
   "cell_type": "code",
   "execution_count": 24,
   "id": "07c823e9-c7d1-446f-988e-fa3142f133c4",
   "metadata": {
    "tags": []
   },
   "outputs": [],
   "source": [
    "def accuracy(mat):\n",
    "    return (mat[0][0] + mat[1][1])/(mat[0][0] + mat[0][1] + mat[1][0] + mat[1][1])\n",
    "def precision(mat):\n",
    "    return (mat[0][0])/(mat[0][0] + mat[1][0])\n",
    "def recall(mat):\n",
    "    return (mat[0][0])/(mat[0][0] + mat[0][1])\n",
    "def F1Score(p,r):\n",
    "    return (2*(p*r))/(p + r)"
   ]
  },
  {
   "cell_type": "code",
   "execution_count": 25,
   "id": "16ce4a70-c4b7-4887-b644-6c76ff668ebb",
   "metadata": {
    "tags": []
   },
   "outputs": [
    {
     "name": "stdout",
     "output_type": "stream",
     "text": [
      "0.9035087719298246 0.75 1.0 0.8571428571428571\n"
     ]
    }
   ],
   "source": [
    "mat = confusion() \n",
    "acc = accuracy(mat)\n",
    "pre = precision(mat)\n",
    "rec = recall(mat)\n",
    "fscore = F1Score(pre, rec)\n",
    "print(acc, pre, rec, fscore)"
   ]
  },
  {
   "cell_type": "code",
   "execution_count": null,
   "id": "dee7236f-6330-498a-ac29-c0d8c81e98c3",
   "metadata": {},
   "outputs": [],
   "source": []
  }
 ],
 "metadata": {
  "kernelspec": {
   "display_name": "Python 3",
   "language": "python",
   "name": "python3"
  },
  "language_info": {
   "codemirror_mode": {
    "name": "ipython",
    "version": 3
   },
   "file_extension": ".py",
   "mimetype": "text/x-python",
   "name": "python",
   "nbconvert_exporter": "python",
   "pygments_lexer": "ipython3",
   "version": "3.10.0"
  }
 },
 "nbformat": 4,
 "nbformat_minor": 5
}
