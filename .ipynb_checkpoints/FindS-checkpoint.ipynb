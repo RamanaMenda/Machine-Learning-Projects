{
 "cells": [
  {
   "cell_type": "code",
   "execution_count": 1,
   "id": "837d5e23-35e3-497e-8153-25ccd53c73cf",
   "metadata": {},
   "outputs": [],
   "source": [
    "import pandas as pd\n",
    "import numpy as np"
   ]
  },
  {
   "cell_type": "code",
   "execution_count": 2,
   "id": "f97ebb39-b676-49e3-9666-e78b9585a006",
   "metadata": {
    "tags": []
   },
   "outputs": [],
   "source": [
    "data = pd.read_csv('EnjoySport.csv')"
   ]
  },
  {
   "cell_type": "code",
   "execution_count": 3,
   "id": "cd795a56-05b4-4cee-bd36-273a463c2350",
   "metadata": {
    "tags": []
   },
   "outputs": [
    {
     "name": "stdout",
     "output_type": "stream",
     "text": [
      "     Sky AirTemp Humidity    Wind Water Forcast EnjoySport\n",
      "0  Sunny    Warm   Normal  Strong  Warm    Same        Yes\n",
      "1  Sunny    Warm     High  Strong  Warm    Same        Yes\n",
      "2  Rainy    Cold     High  Strong  Warm  Change         No\n",
      "3  Sunny    Warm     High  Strong  Cool  Change        Yes\n"
     ]
    }
   ],
   "source": [
    "print(data)"
   ]
  },
  {
   "cell_type": "code",
   "execution_count": 4,
   "id": "bb9caa7d-0ff9-4d2d-841d-666bbe37695e",
   "metadata": {
    "tags": []
   },
   "outputs": [],
   "source": [
    "def findS(h):\n",
    "    n = len(data.keys())\n",
    "    for d in data.iterrows():\n",
    "        if d[1][-1] == 'Yes':\n",
    "            for i in range(n-1):\n",
    "                if h[i] != '?':\n",
    "                    if h[i] is None:\n",
    "                        h[i] = d[1][i]\n",
    "                    elif h[i] != d[1][i]:\n",
    "                        h[i] = '?'\n",
    "    return h"
   ]
  },
  {
   "cell_type": "code",
   "execution_count": 5,
   "id": "fca0871a-f963-47fd-9a86-d4a5ad7774e9",
   "metadata": {},
   "outputs": [
    {
     "name": "stdout",
     "output_type": "stream",
     "text": [
      "['Sunny', 'Warm', '?', 'Strong', '?', '?']\n"
     ]
    }
   ],
   "source": [
    "n = len(data.keys())\n",
    "h = [None for i in range(n-1)]\n",
    "print(findS(h))"
   ]
  },
  {
   "cell_type": "code",
   "execution_count": null,
   "id": "3e864854-e92d-4030-9c8e-b32a307a43a1",
   "metadata": {},
   "outputs": [],
   "source": []
  }
 ],
 "metadata": {
  "kernelspec": {
   "display_name": "Python 3",
   "language": "python",
   "name": "python3"
  },
  "language_info": {
   "codemirror_mode": {
    "name": "ipython",
    "version": 3
   },
   "file_extension": ".py",
   "mimetype": "text/x-python",
   "name": "python",
   "nbconvert_exporter": "python",
   "pygments_lexer": "ipython3",
   "version": "3.10.0"
  }
 },
 "nbformat": 4,
 "nbformat_minor": 5
}
