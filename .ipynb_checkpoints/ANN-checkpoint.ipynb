{
 "cells": [
  {
   "cell_type": "code",
   "execution_count": 1,
   "id": "a1e9c050-f0e1-49a3-839f-ad2317771f9c",
   "metadata": {},
   "outputs": [],
   "source": [
    "import pandas as pd\n",
    "import numpy as np\n",
    "from math import log"
   ]
  },
  {
   "cell_type": "code",
   "execution_count": 2,
   "id": "4afeb385-ac31-417f-a815-faecd5ee1629",
   "metadata": {
    "tags": []
   },
   "outputs": [],
   "source": [
    "data = pd.read_csv('datasets/Classification/xrayfull.csv')"
   ]
  },
  {
   "cell_type": "code",
   "execution_count": 3,
   "id": "47cc6b7c-fb4f-40b7-ac5b-016d74d937ff",
   "metadata": {
    "tags": []
   },
   "outputs": [
    {
     "data": {
      "text/html": [
       "<div>\n",
       "<style scoped>\n",
       "    .dataframe tbody tr th:only-of-type {\n",
       "        vertical-align: middle;\n",
       "    }\n",
       "\n",
       "    .dataframe tbody tr th {\n",
       "        vertical-align: top;\n",
       "    }\n",
       "\n",
       "    .dataframe thead th {\n",
       "        text-align: right;\n",
       "    }\n",
       "</style>\n",
       "<table border=\"1\" class=\"dataframe\">\n",
       "  <thead>\n",
       "    <tr style=\"text-align: right;\">\n",
       "      <th></th>\n",
       "      <th>Image Index</th>\n",
       "      <th>fold</th>\n",
       "      <th>Cardiomegaly</th>\n",
       "      <th>Emphysema</th>\n",
       "      <th>Effusion</th>\n",
       "      <th>Hernia</th>\n",
       "      <th>Infiltration</th>\n",
       "      <th>Mass</th>\n",
       "      <th>Nodule</th>\n",
       "      <th>Atelectasis</th>\n",
       "      <th>Pneumothorax</th>\n",
       "      <th>Pleural_Thickening</th>\n",
       "      <th>Pneumonia</th>\n",
       "      <th>Fibrosis</th>\n",
       "      <th>Edema</th>\n",
       "      <th>Consolidation</th>\n",
       "    </tr>\n",
       "  </thead>\n",
       "  <tbody>\n",
       "    <tr>\n",
       "      <th>0</th>\n",
       "      <td>00000001_000.png</td>\n",
       "      <td>train</td>\n",
       "      <td>1.0</td>\n",
       "      <td>0.0</td>\n",
       "      <td>0.0</td>\n",
       "      <td>0.0</td>\n",
       "      <td>0.0</td>\n",
       "      <td>0.0</td>\n",
       "      <td>0.0</td>\n",
       "      <td>0.0</td>\n",
       "      <td>0.0</td>\n",
       "      <td>0.0</td>\n",
       "      <td>0.0</td>\n",
       "      <td>0.0</td>\n",
       "      <td>0.0</td>\n",
       "      <td>0.0</td>\n",
       "    </tr>\n",
       "    <tr>\n",
       "      <th>1</th>\n",
       "      <td>00000001_001.png</td>\n",
       "      <td>train</td>\n",
       "      <td>1.0</td>\n",
       "      <td>1.0</td>\n",
       "      <td>0.0</td>\n",
       "      <td>0.0</td>\n",
       "      <td>0.0</td>\n",
       "      <td>0.0</td>\n",
       "      <td>0.0</td>\n",
       "      <td>0.0</td>\n",
       "      <td>0.0</td>\n",
       "      <td>0.0</td>\n",
       "      <td>0.0</td>\n",
       "      <td>0.0</td>\n",
       "      <td>0.0</td>\n",
       "      <td>0.0</td>\n",
       "    </tr>\n",
       "    <tr>\n",
       "      <th>2</th>\n",
       "      <td>00000001_002.png</td>\n",
       "      <td>train</td>\n",
       "      <td>1.0</td>\n",
       "      <td>0.0</td>\n",
       "      <td>1.0</td>\n",
       "      <td>0.0</td>\n",
       "      <td>0.0</td>\n",
       "      <td>0.0</td>\n",
       "      <td>0.0</td>\n",
       "      <td>0.0</td>\n",
       "      <td>0.0</td>\n",
       "      <td>0.0</td>\n",
       "      <td>0.0</td>\n",
       "      <td>0.0</td>\n",
       "      <td>0.0</td>\n",
       "      <td>0.0</td>\n",
       "    </tr>\n",
       "    <tr>\n",
       "      <th>3</th>\n",
       "      <td>00000002_000.png</td>\n",
       "      <td>train</td>\n",
       "      <td>0.0</td>\n",
       "      <td>0.0</td>\n",
       "      <td>0.0</td>\n",
       "      <td>0.0</td>\n",
       "      <td>0.0</td>\n",
       "      <td>0.0</td>\n",
       "      <td>0.0</td>\n",
       "      <td>0.0</td>\n",
       "      <td>0.0</td>\n",
       "      <td>0.0</td>\n",
       "      <td>0.0</td>\n",
       "      <td>0.0</td>\n",
       "      <td>0.0</td>\n",
       "      <td>0.0</td>\n",
       "    </tr>\n",
       "    <tr>\n",
       "      <th>4</th>\n",
       "      <td>00000003_000.png</td>\n",
       "      <td>train</td>\n",
       "      <td>0.0</td>\n",
       "      <td>0.0</td>\n",
       "      <td>0.0</td>\n",
       "      <td>1.0</td>\n",
       "      <td>0.0</td>\n",
       "      <td>0.0</td>\n",
       "      <td>0.0</td>\n",
       "      <td>0.0</td>\n",
       "      <td>0.0</td>\n",
       "      <td>0.0</td>\n",
       "      <td>0.0</td>\n",
       "      <td>0.0</td>\n",
       "      <td>0.0</td>\n",
       "      <td>0.0</td>\n",
       "    </tr>\n",
       "    <tr>\n",
       "      <th>...</th>\n",
       "      <td>...</td>\n",
       "      <td>...</td>\n",
       "      <td>...</td>\n",
       "      <td>...</td>\n",
       "      <td>...</td>\n",
       "      <td>...</td>\n",
       "      <td>...</td>\n",
       "      <td>...</td>\n",
       "      <td>...</td>\n",
       "      <td>...</td>\n",
       "      <td>...</td>\n",
       "      <td>...</td>\n",
       "      <td>...</td>\n",
       "      <td>...</td>\n",
       "      <td>...</td>\n",
       "      <td>...</td>\n",
       "    </tr>\n",
       "    <tr>\n",
       "      <th>112115</th>\n",
       "      <td>00030801_001.png</td>\n",
       "      <td>train</td>\n",
       "      <td>0.0</td>\n",
       "      <td>0.0</td>\n",
       "      <td>0.0</td>\n",
       "      <td>0.0</td>\n",
       "      <td>0.0</td>\n",
       "      <td>1.0</td>\n",
       "      <td>0.0</td>\n",
       "      <td>0.0</td>\n",
       "      <td>0.0</td>\n",
       "      <td>0.0</td>\n",
       "      <td>1.0</td>\n",
       "      <td>0.0</td>\n",
       "      <td>0.0</td>\n",
       "      <td>0.0</td>\n",
       "    </tr>\n",
       "    <tr>\n",
       "      <th>112116</th>\n",
       "      <td>00030802_000.png</td>\n",
       "      <td>val</td>\n",
       "      <td>0.0</td>\n",
       "      <td>0.0</td>\n",
       "      <td>0.0</td>\n",
       "      <td>0.0</td>\n",
       "      <td>0.0</td>\n",
       "      <td>0.0</td>\n",
       "      <td>0.0</td>\n",
       "      <td>0.0</td>\n",
       "      <td>0.0</td>\n",
       "      <td>0.0</td>\n",
       "      <td>0.0</td>\n",
       "      <td>0.0</td>\n",
       "      <td>0.0</td>\n",
       "      <td>0.0</td>\n",
       "    </tr>\n",
       "    <tr>\n",
       "      <th>112117</th>\n",
       "      <td>00030803_000.png</td>\n",
       "      <td>train</td>\n",
       "      <td>0.0</td>\n",
       "      <td>0.0</td>\n",
       "      <td>0.0</td>\n",
       "      <td>0.0</td>\n",
       "      <td>0.0</td>\n",
       "      <td>0.0</td>\n",
       "      <td>0.0</td>\n",
       "      <td>0.0</td>\n",
       "      <td>0.0</td>\n",
       "      <td>0.0</td>\n",
       "      <td>0.0</td>\n",
       "      <td>0.0</td>\n",
       "      <td>0.0</td>\n",
       "      <td>0.0</td>\n",
       "    </tr>\n",
       "    <tr>\n",
       "      <th>112118</th>\n",
       "      <td>00030804_000.png</td>\n",
       "      <td>train</td>\n",
       "      <td>0.0</td>\n",
       "      <td>0.0</td>\n",
       "      <td>0.0</td>\n",
       "      <td>0.0</td>\n",
       "      <td>0.0</td>\n",
       "      <td>0.0</td>\n",
       "      <td>0.0</td>\n",
       "      <td>0.0</td>\n",
       "      <td>0.0</td>\n",
       "      <td>0.0</td>\n",
       "      <td>0.0</td>\n",
       "      <td>0.0</td>\n",
       "      <td>0.0</td>\n",
       "      <td>0.0</td>\n",
       "    </tr>\n",
       "    <tr>\n",
       "      <th>112119</th>\n",
       "      <td>00030805_000.png</td>\n",
       "      <td>train</td>\n",
       "      <td>0.0</td>\n",
       "      <td>0.0</td>\n",
       "      <td>0.0</td>\n",
       "      <td>0.0</td>\n",
       "      <td>0.0</td>\n",
       "      <td>0.0</td>\n",
       "      <td>0.0</td>\n",
       "      <td>0.0</td>\n",
       "      <td>0.0</td>\n",
       "      <td>0.0</td>\n",
       "      <td>0.0</td>\n",
       "      <td>0.0</td>\n",
       "      <td>0.0</td>\n",
       "      <td>0.0</td>\n",
       "    </tr>\n",
       "  </tbody>\n",
       "</table>\n",
       "<p>112120 rows × 16 columns</p>\n",
       "</div>"
      ],
      "text/plain": [
       "             Image Index   fold  Cardiomegaly  Emphysema  Effusion  Hernia  \\\n",
       "0       00000001_000.png  train           1.0        0.0       0.0     0.0   \n",
       "1       00000001_001.png  train           1.0        1.0       0.0     0.0   \n",
       "2       00000001_002.png  train           1.0        0.0       1.0     0.0   \n",
       "3       00000002_000.png  train           0.0        0.0       0.0     0.0   \n",
       "4       00000003_000.png  train           0.0        0.0       0.0     1.0   \n",
       "...                  ...    ...           ...        ...       ...     ...   \n",
       "112115  00030801_001.png  train           0.0        0.0       0.0     0.0   \n",
       "112116  00030802_000.png    val           0.0        0.0       0.0     0.0   \n",
       "112117  00030803_000.png  train           0.0        0.0       0.0     0.0   \n",
       "112118  00030804_000.png  train           0.0        0.0       0.0     0.0   \n",
       "112119  00030805_000.png  train           0.0        0.0       0.0     0.0   \n",
       "\n",
       "        Infiltration  Mass  Nodule  Atelectasis  Pneumothorax  \\\n",
       "0                0.0   0.0     0.0          0.0           0.0   \n",
       "1                0.0   0.0     0.0          0.0           0.0   \n",
       "2                0.0   0.0     0.0          0.0           0.0   \n",
       "3                0.0   0.0     0.0          0.0           0.0   \n",
       "4                0.0   0.0     0.0          0.0           0.0   \n",
       "...              ...   ...     ...          ...           ...   \n",
       "112115           0.0   1.0     0.0          0.0           0.0   \n",
       "112116           0.0   0.0     0.0          0.0           0.0   \n",
       "112117           0.0   0.0     0.0          0.0           0.0   \n",
       "112118           0.0   0.0     0.0          0.0           0.0   \n",
       "112119           0.0   0.0     0.0          0.0           0.0   \n",
       "\n",
       "        Pleural_Thickening  Pneumonia  Fibrosis  Edema  Consolidation  \n",
       "0                      0.0        0.0       0.0    0.0            0.0  \n",
       "1                      0.0        0.0       0.0    0.0            0.0  \n",
       "2                      0.0        0.0       0.0    0.0            0.0  \n",
       "3                      0.0        0.0       0.0    0.0            0.0  \n",
       "4                      0.0        0.0       0.0    0.0            0.0  \n",
       "...                    ...        ...       ...    ...            ...  \n",
       "112115                 0.0        1.0       0.0    0.0            0.0  \n",
       "112116                 0.0        0.0       0.0    0.0            0.0  \n",
       "112117                 0.0        0.0       0.0    0.0            0.0  \n",
       "112118                 0.0        0.0       0.0    0.0            0.0  \n",
       "112119                 0.0        0.0       0.0    0.0            0.0  \n",
       "\n",
       "[112120 rows x 16 columns]"
      ]
     },
     "execution_count": 3,
     "metadata": {},
     "output_type": "execute_result"
    }
   ],
   "source": [
    "data"
   ]
  },
  {
   "cell_type": "code",
   "execution_count": 4,
   "id": "b6baeb86-30df-4d79-b098-462e7ee0a152",
   "metadata": {
    "tags": []
   },
   "outputs": [],
   "source": [
    "data.drop(columns=['Image Index'], inplace=True)"
   ]
  },
  {
   "cell_type": "code",
   "execution_count": 5,
   "id": "78e9833d-5dfb-4dec-adbf-99553a5e3666",
   "metadata": {
    "tags": []
   },
   "outputs": [],
   "source": [
    "data.rename(columns = {\"fold\": \"Class\"}, inplace=True)"
   ]
  },
  {
   "cell_type": "code",
   "execution_count": 6,
   "id": "d86bb7a5-9bca-4d37-a79f-ea751e311798",
   "metadata": {
    "tags": []
   },
   "outputs": [
    {
     "name": "stdout",
     "output_type": "stream",
     "text": [
      "['train' 'test' 'val']\n"
     ]
    }
   ],
   "source": [
    "clss = data[\"Class\"].unique()\n",
    "print(clss)"
   ]
  },
  {
   "cell_type": "code",
   "execution_count": 7,
   "id": "16225a9f-7c0c-47a2-a3d2-4f66b060c7dc",
   "metadata": {
    "tags": []
   },
   "outputs": [
    {
     "data": {
      "text/plain": [
       "{'Class': {'train': 0, 'test': 1, 'val': 2}}"
      ]
     },
     "execution_count": 7,
     "metadata": {},
     "output_type": "execute_result"
    }
   ],
   "source": [
    "cols = {}\n",
    "cols['Class'] = {val : index for index, val in enumerate(data['Class'].unique())}\n",
    "data['Class'] = [cols['Class'][val] for val in data['Class']]\n",
    "cols"
   ]
  },
  {
   "cell_type": "code",
   "execution_count": 8,
   "id": "1bc2217b-7f2b-4e6b-8052-4d7d6162d2f5",
   "metadata": {
    "tags": []
   },
   "outputs": [],
   "source": [
    "trainData = data.sample(frac=0.8, random_state=0)"
   ]
  },
  {
   "cell_type": "code",
   "execution_count": 9,
   "id": "d25fa27e-2848-401b-bcbc-c6acd3b65786",
   "metadata": {
    "tags": []
   },
   "outputs": [],
   "source": [
    "testData = data.drop(trainData.index)"
   ]
  },
  {
   "cell_type": "code",
   "execution_count": 10,
   "id": "e04a364b-d4b3-4a3a-b4c0-497e987dac1e",
   "metadata": {
    "tags": []
   },
   "outputs": [],
   "source": [
    "y = trainData['Class']\n",
    "x = trainData.drop(columns = ['Class'])"
   ]
  },
  {
   "cell_type": "code",
   "execution_count": 11,
   "id": "c87a7069-0919-4dfb-a5ec-2d51888d2238",
   "metadata": {
    "tags": []
   },
   "outputs": [],
   "source": [
    "def backpropagation(x,y,learning_rate,n1,n2,n3,iterations=1000):\n",
    "    w1 = np.ones(n1*n2)\n",
    "    w1 = w1.reshape(n1,n2)\n",
    "    w2 = np.ones(n2*n3)\n",
    "    w2 = w2.reshape(n2,n3)\n",
    "    for i in range(len(w1)):\n",
    "        for j in range(len(w1[0])):\n",
    "            w1[i][j] = 0.5\n",
    "    x = x.to_numpy()\n",
    "    y = y.to_numpy()\n",
    "    n = len(x)\n",
    "    for i in range(iterations):\n",
    "        for d in range(n):\n",
    "            #Forward Pass\n",
    "            hnet = np.matmul(x[d],w1)\n",
    "            hout = 1/(1 + np.exp((-1)*hnet)).astype(np.longdouble)\n",
    "            onet = np.matmul(hout,w2)\n",
    "            oout = 1/(1 + np.exp((-1)*onet)).astype(np.longdouble)\n",
    "            #Backward pass\n",
    "            delta_o = np.multiply(oout,np.multiply(np.subtract(1,oout),np.subtract(y[d],oout)))\n",
    "            inter = np.matmul(w2,delta_o)\n",
    "            delta_h = np.multiply(hout,np.multiply(np.subtract(1,hout),inter))\n",
    "            #Update weights\n",
    "            for i in range(len(w1)):\n",
    "                for j in range(len(w1[0])):\n",
    "                    delta = learning_rate*delta_h[j]*x[d][i]\n",
    "                    w1[i][j] += delta\n",
    "            for i in range(len(w2)):\n",
    "                for j in range(len(w2[0])):\n",
    "                    delta = learning_rate*delta_o[j]*hout[j]\n",
    "                    w2[i][j] += delta\n",
    "    return w1, w2"
   ]
  },
  {
   "cell_type": "code",
   "execution_count": 12,
   "id": "0d198cf2-f541-4800-9a44-35b6f889bf35",
   "metadata": {
    "tags": []
   },
   "outputs": [],
   "source": [
    "w1,w2 = backpropagation(x,y,0.1,14,3,1)"
   ]
  },
  {
   "cell_type": "code",
   "execution_count": 13,
   "id": "b4086837-b188-465f-9207-b94fa9161017",
   "metadata": {
    "tags": []
   },
   "outputs": [],
   "source": [
    "def confusion():\n",
    "    classes = {}\n",
    "    clss = trainData[\"Class\"].unique()\n",
    "    i = 0\n",
    "    for clas in clss:\n",
    "        classes[clas] = i\n",
    "        i += 1\n",
    "    n = len(classes)\n",
    "    confmat = np.zeros(n*n)\n",
    "    confmat = confmat.reshape(n,n)\n",
    "    for _, d in testData.iterrows():\n",
    "        y = d['Class']\n",
    "        x = d.drop('Class')\n",
    "        hnet = np.matmul(x,w1)\n",
    "        hout = 1/(1 + np.exp((-1)*hnet))\n",
    "        onet = np.matmul(hnet,w2)\n",
    "        oout = 1/(1 + np.exp((-1)*onet))\n",
    "        if oout > 0.7:\n",
    "            predy = 2\n",
    "        elif oout < 0.4:\n",
    "            predy = 0\n",
    "        else:\n",
    "            predy = 1\n",
    "        confmat[classes[predy]][classes[y]] += 1\n",
    "    return confmat "
   ]
  },
  {
   "cell_type": "code",
   "execution_count": 14,
   "id": "ede92309-f98d-4d5f-9afc-9c573150c45f",
   "metadata": {
    "tags": []
   },
   "outputs": [],
   "source": [
    "def accuracy(mat):\n",
    "    n = len(mat)\n",
    "    num = 0\n",
    "    den = 0\n",
    "    for i in range(n):\n",
    "        num += mat[i][i]\n",
    "        den += sum(mat[i])\n",
    "    return num/den"
   ]
  },
  {
   "cell_type": "code",
   "execution_count": 15,
   "id": "98ee10fe-b4ea-47b7-b130-7f0b71772069",
   "metadata": {
    "tags": []
   },
   "outputs": [],
   "source": [
    "def precision(mat, key):\n",
    "    n = len(mat)\n",
    "    num = mat[key][key]\n",
    "    den = 0\n",
    "    for i in range(n):\n",
    "        den += mat[i][key]\n",
    "    return num/den"
   ]
  },
  {
   "cell_type": "code",
   "execution_count": 16,
   "id": "c39610f8-56df-40f6-907f-648c0032a097",
   "metadata": {
    "tags": []
   },
   "outputs": [],
   "source": [
    "def recall(mat, key):\n",
    "    n = len(mat)\n",
    "    num = mat[key][key]\n",
    "    den = 0\n",
    "    for i in range(n):\n",
    "        den += mat[key][i]\n",
    "    return num/den"
   ]
  },
  {
   "cell_type": "code",
   "execution_count": 17,
   "id": "f8227d4e-72ae-4efa-be7a-f20a0ede290c",
   "metadata": {
    "tags": []
   },
   "outputs": [],
   "source": [
    "def F1Score(p,r):\n",
    "    return (2*(p*r))/(p + r)"
   ]
  },
  {
   "cell_type": "code",
   "execution_count": 18,
   "id": "5ad2683a-6c5c-4d93-822e-e891698be4df",
   "metadata": {
    "tags": []
   },
   "outputs": [
    {
     "name": "stdout",
     "output_type": "stream",
     "text": [
      "0.2009900107028184 0.002291242362525458 0.782608695652174 0.004569107754791218\n"
     ]
    }
   ],
   "source": [
    "mat = confusion() \n",
    "acc = accuracy(mat)\n",
    "pre = precision(mat, 0)\n",
    "rec = recall(mat, 0)\n",
    "fscore = F1Score(pre, rec)\n",
    "print(acc, pre, rec, fscore)"
   ]
  },
  {
   "cell_type": "code",
   "execution_count": 19,
   "id": "f5e20582-cb2b-4f85-934e-045bb4e540f7",
   "metadata": {},
   "outputs": [
    {
     "name": "stdout",
     "output_type": "stream",
     "text": [
      "[[3.6000e+01 4.0000e+00 6.0000e+00]\n",
      " [1.5637e+04 4.4610e+03 2.2210e+03]\n",
      " [3.9000e+01 1.0000e+01 1.0000e+01]]\n"
     ]
    }
   ],
   "source": [
    "print(mat)"
   ]
  },
  {
   "cell_type": "code",
   "execution_count": null,
   "id": "eac89b06-5cd8-4008-8021-74fbe7ede00f",
   "metadata": {},
   "outputs": [],
   "source": []
  }
 ],
 "metadata": {
  "kernelspec": {
   "display_name": "Python 3",
   "language": "python",
   "name": "python3"
  },
  "language_info": {
   "codemirror_mode": {
    "name": "ipython",
    "version": 3
   },
   "file_extension": ".py",
   "mimetype": "text/x-python",
   "name": "python",
   "nbconvert_exporter": "python",
   "pygments_lexer": "ipython3",
   "version": "3.10.0"
  }
 },
 "nbformat": 4,
 "nbformat_minor": 5
}
